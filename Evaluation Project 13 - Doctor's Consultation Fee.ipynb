{
 "cells": [
  {
   "cell_type": "markdown",
   "metadata": {},
   "source": [
    "# Project 13 - Doctor's Consultation Fee"
   ]
  },
  {
   "cell_type": "markdown",
   "metadata": {},
   "source": [
    "Objective - To develop an ML model for predicting doctor's consultation fee based on features like specialization, experience & location etc\n",
    "\n",
    "Approach - Since our target variable is continous in nature hence a regression model will be more suitable for making good predicitions "
   ]
  },
  {
   "cell_type": "markdown",
   "metadata": {},
   "source": [
    "# Importing required libraries"
   ]
  },
  {
   "cell_type": "raw",
   "metadata": {},
   "source": [
    "All commonly used libraries can be used from pyforest"
   ]
  },
  {
   "cell_type": "markdown",
   "metadata": {},
   "source": [
    "# Importing dataset"
   ]
  },
  {
   "cell_type": "code",
   "execution_count": 969,
   "metadata": {},
   "outputs": [
    {
     "data": {
      "application/javascript": [
       "\n",
       "        if (window._pyforest_update_imports_cell) { window._pyforest_update_imports_cell('import matplotlib.pyplot as plt\\nimport pandas as pd\\nimport seaborn as sns\\nimport numpy as np'); }\n",
       "    "
      ],
      "text/plain": [
       "<IPython.core.display.Javascript object>"
      ]
     },
     "metadata": {},
     "output_type": "display_data"
    }
   ],
   "source": [
    "dftr = pd.read_excel('D_Final_Train.xlsx')"
   ]
  },
  {
   "cell_type": "code",
   "execution_count": 970,
   "metadata": {},
   "outputs": [
    {
     "data": {
      "application/javascript": [
       "\n",
       "        if (window._pyforest_update_imports_cell) { window._pyforest_update_imports_cell('import matplotlib.pyplot as plt\\nimport pandas as pd\\nimport seaborn as sns\\nimport numpy as np'); }\n",
       "    "
      ],
      "text/plain": [
       "<IPython.core.display.Javascript object>"
      ]
     },
     "metadata": {},
     "output_type": "display_data"
    }
   ],
   "source": [
    "dfte = pd.read_excel('D_Final_Test.xlsx')"
   ]
  },
  {
   "cell_type": "code",
   "execution_count": 971,
   "metadata": {},
   "outputs": [
    {
     "data": {
      "application/javascript": [
       "\n",
       "        if (window._pyforest_update_imports_cell) { window._pyforest_update_imports_cell('import matplotlib.pyplot as plt\\nimport pandas as pd\\nimport seaborn as sns\\nimport numpy as np'); }\n",
       "    "
      ],
      "text/plain": [
       "<IPython.core.display.Javascript object>"
      ]
     },
     "metadata": {},
     "output_type": "display_data"
    }
   ],
   "source": [
    "dfs = pd.read_excel('D_Sample_submission.xlsx')"
   ]
  },
  {
   "cell_type": "markdown",
   "metadata": {},
   "source": [
    "# Loading datasets"
   ]
  },
  {
   "cell_type": "code",
   "execution_count": 972,
   "metadata": {},
   "outputs": [
    {
     "data": {
      "text/html": [
       "<div>\n",
       "<style scoped>\n",
       "    .dataframe tbody tr th:only-of-type {\n",
       "        vertical-align: middle;\n",
       "    }\n",
       "\n",
       "    .dataframe tbody tr th {\n",
       "        vertical-align: top;\n",
       "    }\n",
       "\n",
       "    .dataframe thead th {\n",
       "        text-align: right;\n",
       "    }\n",
       "</style>\n",
       "<table border=\"1\" class=\"dataframe\">\n",
       "  <thead>\n",
       "    <tr style=\"text-align: right;\">\n",
       "      <th></th>\n",
       "      <th>Qualification</th>\n",
       "      <th>Experience</th>\n",
       "      <th>Rating</th>\n",
       "      <th>Place</th>\n",
       "      <th>Profile</th>\n",
       "      <th>Miscellaneous_Info</th>\n",
       "      <th>Fees</th>\n",
       "    </tr>\n",
       "  </thead>\n",
       "  <tbody>\n",
       "    <tr>\n",
       "      <th>0</th>\n",
       "      <td>BHMS, MD - Homeopathy</td>\n",
       "      <td>24 years experience</td>\n",
       "      <td>100%</td>\n",
       "      <td>Kakkanad, Ernakulam</td>\n",
       "      <td>Homeopath</td>\n",
       "      <td>100% 16 Feedback Kakkanad, Ernakulam</td>\n",
       "      <td>100</td>\n",
       "    </tr>\n",
       "    <tr>\n",
       "      <th>1</th>\n",
       "      <td>BAMS, MD - Ayurveda Medicine</td>\n",
       "      <td>12 years experience</td>\n",
       "      <td>98%</td>\n",
       "      <td>Whitefield, Bangalore</td>\n",
       "      <td>Ayurveda</td>\n",
       "      <td>98% 76 Feedback Whitefield, Bangalore</td>\n",
       "      <td>350</td>\n",
       "    </tr>\n",
       "    <tr>\n",
       "      <th>2</th>\n",
       "      <td>MBBS, MS - Otorhinolaryngology</td>\n",
       "      <td>9 years experience</td>\n",
       "      <td>NaN</td>\n",
       "      <td>Mathikere - BEL, Bangalore</td>\n",
       "      <td>ENT Specialist</td>\n",
       "      <td>NaN</td>\n",
       "      <td>300</td>\n",
       "    </tr>\n",
       "    <tr>\n",
       "      <th>3</th>\n",
       "      <td>BSc - Zoology, BAMS</td>\n",
       "      <td>12 years experience</td>\n",
       "      <td>NaN</td>\n",
       "      <td>Bannerghatta Road, Bangalore</td>\n",
       "      <td>Ayurveda</td>\n",
       "      <td>Bannerghatta Road, Bangalore ₹250 Available on...</td>\n",
       "      <td>250</td>\n",
       "    </tr>\n",
       "    <tr>\n",
       "      <th>4</th>\n",
       "      <td>BAMS</td>\n",
       "      <td>20 years experience</td>\n",
       "      <td>100%</td>\n",
       "      <td>Keelkattalai, Chennai</td>\n",
       "      <td>Ayurveda</td>\n",
       "      <td>100% 4 Feedback Keelkattalai, Chennai</td>\n",
       "      <td>250</td>\n",
       "    </tr>\n",
       "  </tbody>\n",
       "</table>\n",
       "</div>"
      ],
      "text/plain": [
       "                    Qualification           Experience Rating  \\\n",
       "0           BHMS, MD - Homeopathy  24 years experience   100%   \n",
       "1    BAMS, MD - Ayurveda Medicine  12 years experience    98%   \n",
       "2  MBBS, MS - Otorhinolaryngology   9 years experience    NaN   \n",
       "3             BSc - Zoology, BAMS  12 years experience    NaN   \n",
       "4                            BAMS  20 years experience   100%   \n",
       "\n",
       "                          Place         Profile  \\\n",
       "0           Kakkanad, Ernakulam       Homeopath   \n",
       "1         Whitefield, Bangalore        Ayurveda   \n",
       "2    Mathikere - BEL, Bangalore  ENT Specialist   \n",
       "3  Bannerghatta Road, Bangalore        Ayurveda   \n",
       "4         Keelkattalai, Chennai        Ayurveda   \n",
       "\n",
       "                                  Miscellaneous_Info  Fees  \n",
       "0               100% 16 Feedback Kakkanad, Ernakulam   100  \n",
       "1              98% 76 Feedback Whitefield, Bangalore   350  \n",
       "2                                                NaN   300  \n",
       "3  Bannerghatta Road, Bangalore ₹250 Available on...   250  \n",
       "4              100% 4 Feedback Keelkattalai, Chennai   250  "
      ]
     },
     "execution_count": 972,
     "metadata": {},
     "output_type": "execute_result"
    }
   ],
   "source": [
    "dftr.head()"
   ]
  },
  {
   "cell_type": "code",
   "execution_count": 973,
   "metadata": {},
   "outputs": [
    {
     "data": {
      "text/html": [
       "<div>\n",
       "<style scoped>\n",
       "    .dataframe tbody tr th:only-of-type {\n",
       "        vertical-align: middle;\n",
       "    }\n",
       "\n",
       "    .dataframe tbody tr th {\n",
       "        vertical-align: top;\n",
       "    }\n",
       "\n",
       "    .dataframe thead th {\n",
       "        text-align: right;\n",
       "    }\n",
       "</style>\n",
       "<table border=\"1\" class=\"dataframe\">\n",
       "  <thead>\n",
       "    <tr style=\"text-align: right;\">\n",
       "      <th></th>\n",
       "      <th>Qualification</th>\n",
       "      <th>Experience</th>\n",
       "      <th>Rating</th>\n",
       "      <th>Place</th>\n",
       "      <th>Profile</th>\n",
       "      <th>Miscellaneous_Info</th>\n",
       "    </tr>\n",
       "  </thead>\n",
       "  <tbody>\n",
       "    <tr>\n",
       "      <th>0</th>\n",
       "      <td>MBBS</td>\n",
       "      <td>35 years experience</td>\n",
       "      <td>NaN</td>\n",
       "      <td>Ghatkopar East, Mumbai</td>\n",
       "      <td>General Medicine</td>\n",
       "      <td>NaN</td>\n",
       "    </tr>\n",
       "    <tr>\n",
       "      <th>1</th>\n",
       "      <td>MBBS, Diploma in Otorhinolaryngology (DLO)</td>\n",
       "      <td>31 years experience</td>\n",
       "      <td>NaN</td>\n",
       "      <td>West Marredpally, Hyderabad</td>\n",
       "      <td>ENT Specialist</td>\n",
       "      <td>NaN</td>\n",
       "    </tr>\n",
       "    <tr>\n",
       "      <th>2</th>\n",
       "      <td>MBBS, DDVL</td>\n",
       "      <td>40 years experience</td>\n",
       "      <td>70%</td>\n",
       "      <td>KK Nagar, Chennai</td>\n",
       "      <td>Dermatologists</td>\n",
       "      <td>70% 4 Feedback KK Nagar, Chennai</td>\n",
       "    </tr>\n",
       "    <tr>\n",
       "      <th>3</th>\n",
       "      <td>BAMS</td>\n",
       "      <td>0 years experience</td>\n",
       "      <td>NaN</td>\n",
       "      <td>New Ashok Nagar, Delhi</td>\n",
       "      <td>Ayurveda</td>\n",
       "      <td>NaN</td>\n",
       "    </tr>\n",
       "    <tr>\n",
       "      <th>4</th>\n",
       "      <td>BDS, MDS - Conservative Dentistry &amp; Endodontics</td>\n",
       "      <td>16 years experience</td>\n",
       "      <td>100%</td>\n",
       "      <td>Kanakpura Road, Bangalore</td>\n",
       "      <td>Dentist</td>\n",
       "      <td>General Dentistry Conservative Dentistry Cosme...</td>\n",
       "    </tr>\n",
       "  </tbody>\n",
       "</table>\n",
       "</div>"
      ],
      "text/plain": [
       "                                     Qualification           Experience  \\\n",
       "0                                             MBBS  35 years experience   \n",
       "1       MBBS, Diploma in Otorhinolaryngology (DLO)  31 years experience   \n",
       "2                                       MBBS, DDVL  40 years experience   \n",
       "3                                             BAMS   0 years experience   \n",
       "4  BDS, MDS - Conservative Dentistry & Endodontics  16 years experience   \n",
       "\n",
       "  Rating                        Place           Profile  \\\n",
       "0    NaN       Ghatkopar East, Mumbai  General Medicine   \n",
       "1    NaN  West Marredpally, Hyderabad    ENT Specialist   \n",
       "2    70%            KK Nagar, Chennai    Dermatologists   \n",
       "3    NaN       New Ashok Nagar, Delhi          Ayurveda   \n",
       "4   100%    Kanakpura Road, Bangalore           Dentist   \n",
       "\n",
       "                                  Miscellaneous_Info  \n",
       "0                                                NaN  \n",
       "1                                                NaN  \n",
       "2                   70% 4 Feedback KK Nagar, Chennai  \n",
       "3                                                NaN  \n",
       "4  General Dentistry Conservative Dentistry Cosme...  "
      ]
     },
     "execution_count": 973,
     "metadata": {},
     "output_type": "execute_result"
    }
   ],
   "source": [
    "dfte.head()"
   ]
  },
  {
   "cell_type": "code",
   "execution_count": 974,
   "metadata": {},
   "outputs": [
    {
     "data": {
      "text/html": [
       "<div>\n",
       "<style scoped>\n",
       "    .dataframe tbody tr th:only-of-type {\n",
       "        vertical-align: middle;\n",
       "    }\n",
       "\n",
       "    .dataframe tbody tr th {\n",
       "        vertical-align: top;\n",
       "    }\n",
       "\n",
       "    .dataframe thead th {\n",
       "        text-align: right;\n",
       "    }\n",
       "</style>\n",
       "<table border=\"1\" class=\"dataframe\">\n",
       "  <thead>\n",
       "    <tr style=\"text-align: right;\">\n",
       "      <th></th>\n",
       "      <th>Fees</th>\n",
       "    </tr>\n",
       "  </thead>\n",
       "  <tbody>\n",
       "    <tr>\n",
       "      <th>0</th>\n",
       "      <td>1747</td>\n",
       "    </tr>\n",
       "    <tr>\n",
       "      <th>1</th>\n",
       "      <td>1725</td>\n",
       "    </tr>\n",
       "    <tr>\n",
       "      <th>2</th>\n",
       "      <td>2194</td>\n",
       "    </tr>\n",
       "    <tr>\n",
       "      <th>3</th>\n",
       "      <td>2193</td>\n",
       "    </tr>\n",
       "    <tr>\n",
       "      <th>4</th>\n",
       "      <td>2091</td>\n",
       "    </tr>\n",
       "  </tbody>\n",
       "</table>\n",
       "</div>"
      ],
      "text/plain": [
       "   Fees\n",
       "0  1747\n",
       "1  1725\n",
       "2  2194\n",
       "3  2193\n",
       "4  2091"
      ]
     },
     "execution_count": 974,
     "metadata": {},
     "output_type": "execute_result"
    }
   ],
   "source": [
    "dfs.head()"
   ]
  },
  {
   "cell_type": "markdown",
   "metadata": {},
   "source": [
    "# Performing EDA"
   ]
  },
  {
   "cell_type": "raw",
   "metadata": {},
   "source": [
    "# Since the data is available in three different datasets, lets first combine all in one for analysis & I have used an identifier column to distinguish all three datasets\n",
    "# From datasets it can also be seen that certian columns like Qualification, Rating, Place, Experience contain clubed information which shall be splited to process it well"
   ]
  },
  {
   "cell_type": "code",
   "execution_count": 975,
   "metadata": {},
   "outputs": [
    {
     "data": {
      "application/javascript": [
       "\n",
       "        if (window._pyforest_update_imports_cell) { window._pyforest_update_imports_cell('import matplotlib.pyplot as plt\\nimport pandas as pd\\nimport seaborn as sns\\nimport numpy as np'); }\n",
       "    "
      ],
      "text/plain": [
       "<IPython.core.display.Javascript object>"
      ]
     },
     "metadata": {},
     "output_type": "display_data"
    }
   ],
   "source": [
    "dfte = pd.concat([dfte,dfs], axis =1) # Concatinating sample cost & test dataset"
   ]
  },
  {
   "cell_type": "code",
   "execution_count": 976,
   "metadata": {},
   "outputs": [],
   "source": [
    "# Identifiers for each dataset\n",
    "dfte['Identify']= 'Test'\n",
    "dftr['Identify']='Train'"
   ]
  },
  {
   "cell_type": "code",
   "execution_count": 977,
   "metadata": {},
   "outputs": [
    {
     "data": {
      "application/javascript": [
       "\n",
       "        if (window._pyforest_update_imports_cell) { window._pyforest_update_imports_cell('import matplotlib.pyplot as plt\\nimport pandas as pd\\nimport seaborn as sns\\nimport numpy as np'); }\n",
       "    "
      ],
      "text/plain": [
       "<IPython.core.display.Javascript object>"
      ]
     },
     "metadata": {},
     "output_type": "display_data"
    }
   ],
   "source": [
    "d_fe = pd.concat([dftr,dfte], ignore_index = True) # Concatinating both datasets (test & Train)"
   ]
  },
  {
   "cell_type": "code",
   "execution_count": 978,
   "metadata": {},
   "outputs": [
    {
     "name": "stdout",
     "output_type": "stream",
     "text": [
      "<class 'pandas.core.frame.DataFrame'>\n",
      "RangeIndex: 7948 entries, 0 to 7947\n",
      "Data columns (total 8 columns):\n",
      " #   Column              Non-Null Count  Dtype \n",
      "---  ------              --------------  ----- \n",
      " 0   Qualification       7948 non-null   object\n",
      " 1   Experience          7948 non-null   object\n",
      " 2   Rating              3556 non-null   object\n",
      " 3   Place               7917 non-null   object\n",
      " 4   Profile             7948 non-null   object\n",
      " 5   Miscellaneous_Info  4494 non-null   object\n",
      " 6   Fees                7948 non-null   int64 \n",
      " 7   Identify            7948 non-null   object\n",
      "dtypes: int64(1), object(7)\n",
      "memory usage: 496.9+ KB\n",
      "Qualification            0\n",
      "Experience               0\n",
      "Rating                4392\n",
      "Place                   31\n",
      "Profile                  0\n",
      "Miscellaneous_Info    3454\n",
      "Fees                     0\n",
      "Identify                 0\n",
      "dtype: int64\n"
     ]
    },
    {
     "data": {
      "application/javascript": [
       "\n",
       "        if (window._pyforest_update_imports_cell) { window._pyforest_update_imports_cell('import matplotlib.pyplot as plt\\nimport pandas as pd\\nimport seaborn as sns\\nimport numpy as np'); }\n",
       "    "
      ],
      "text/plain": [
       "<IPython.core.display.Javascript object>"
      ]
     },
     "metadata": {},
     "output_type": "display_data"
    },
    {
     "data": {
      "application/javascript": [
       "\n",
       "        if (window._pyforest_update_imports_cell) { window._pyforest_update_imports_cell('import matplotlib.pyplot as plt\\nimport pandas as pd\\nimport seaborn as sns\\nimport numpy as np'); }\n",
       "    "
      ],
      "text/plain": [
       "<IPython.core.display.Javascript object>"
      ]
     },
     "metadata": {},
     "output_type": "display_data"
    },
    {
     "data": {
      "application/javascript": [
       "\n",
       "        if (window._pyforest_update_imports_cell) { window._pyforest_update_imports_cell('import matplotlib.pyplot as plt\\nimport pandas as pd\\nimport seaborn as sns\\nimport numpy as np'); }\n",
       "    "
      ],
      "text/plain": [
       "<IPython.core.display.Javascript object>"
      ]
     },
     "metadata": {},
     "output_type": "display_data"
    },
    {
     "data": {
      "image/png": "[encoded data removed]",
      "text/plain": [
       "<Figure size 432x288 with 2 Axes>"
      ]
     },
     "metadata": {
      "needs_background": "light"
     },
     "output_type": "display_data"
    }
   ],
   "source": [
    "d_fe.info() # Dataset info\n",
    "\n",
    "# Checking Null Values\n",
    "print(d_fe.isnull().sum())\n",
    "plt.title('Null Rep')\n",
    "sns.heatmap(d_fe.isnull())\n",
    "plt.show()"
   ]
  },
  {
   "cell_type": "raw",
   "metadata": {},
   "source": [
    "# Except 'Fees' column all the data is in object data type & some columns are seen with Null values"
   ]
  },
  {
   "cell_type": "code",
   "execution_count": 979,
   "metadata": {},
   "outputs": [
    {
     "data": {
      "text/plain": [
       "Index(['Qualification', 'Experience', 'Rating', 'Place', 'Profile',\n",
       "       'Miscellaneous_Info', 'Fees', 'Identify'],\n",
       "      dtype='object')"
      ]
     },
     "execution_count": 979,
     "metadata": {},
     "output_type": "execute_result"
    }
   ],
   "source": [
    "# All column names\n",
    "d_fe.columns"
   ]
  },
  {
   "cell_type": "code",
   "execution_count": 980,
   "metadata": {},
   "outputs": [],
   "source": [
    "# Lets eliminate white spaces for the ease of processing data\n",
    "list = ['Qualification','Place', 'Profile','Identify']\n",
    "for i in list:\n",
    "    d_fe[i] = d_fe[i].str.replace(' ', '')"
   ]
  },
  {
   "cell_type": "code",
   "execution_count": 981,
   "metadata": {},
   "outputs": [],
   "source": [
    "# Function to analyse columns\n",
    "def cat_ana(df, x = None):\n",
    "    series = df[x]\n",
    "    print('+' *80)\n",
    "    print(f'Details of {x}')\n",
    "    print(f'Stats summary \\n{series.describe()}')\n",
    "    print('+' *80)\n",
    "    print(f'Null values \\n{series.isnull().sum()}')\n",
    "    print('+' *80)\n",
    "    print(f'Series value count is \\n{series.value_counts()}')\n",
    "    print('+' *80)\n",
    "    print(f'Unique values \\n{series.unique()}')"
   ]
  },
  {
   "cell_type": "code",
   "execution_count": 982,
   "metadata": {},
   "outputs": [
    {
     "name": "stdout",
     "output_type": "stream",
     "text": [
      "++++++++++++++++++++++++++++++++++++++++++++++++++++++++++++++++++++++++++++++++\n",
      "Details of Qualification\n",
      "Stats summary \n",
      "count     7948\n",
      "unique    1801\n",
      "top        BDS\n",
      "freq       632\n",
      "Name: Qualification, dtype: object\n",
      "++++++++++++++++++++++++++++++++++++++++++++++++++++++++++++++++++++++++++++++++\n",
      "Null values \n",
      "0\n",
      "++++++++++++++++++++++++++++++++++++++++++++++++++++++++++++++++++++++++++++++++\n",
      "Series value count is \n",
      "BDS                                                                            632\n",
      "BHMS                                                                           627\n",
      "BAMS                                                                           624\n",
      "MBBS                                                                           441\n",
      "MBBS,MS-ENT                                                                    280\n",
      "                                                                              ... \n",
      "MBBS,DDVL,DNB-Dermatology&Venereology,MNAMS(MembershipoftheNationalAcademy)      1\n",
      "BDS,PGCE(Endodontics)                                                            1\n",
      "BHMS,MD(HOM)-Paeditrics,FellowshipCourseinHomoeopathicDermatology                1\n",
      "MRCS(UK),MS-ENT,MBBS                                                             1\n",
      "MBBS,MD-RadioDiagnosis/Radiology                                                 1\n",
      "Name: Qualification, Length: 1801, dtype: int64\n",
      "++++++++++++++++++++++++++++++++++++++++++++++++++++++++++++++++++++++++++++++++\n",
      "Unique values \n",
      "['BHMS,MD-Homeopathy' 'BAMS,MD-AyurvedaMedicine'\n",
      " 'MBBS,MS-Otorhinolaryngology' ...\n",
      " 'MD-Medicine,PostGraduateDiplomainDiabetology(PGDD),MBBS,FRCP-InternalMedicine'\n",
      " 'MBBS,MS-GeneralSurgery,FAIS,FIAGES' 'MBBS,MD/MS-Obstetrics&Gynaecology']\n",
      "++++++++++++++++++++++++++++++++++++++++++++++++++++++++++++++++++++++++++++++++\n",
      "Details of Experience\n",
      "Stats summary \n",
      "count                   7948\n",
      "unique                    64\n",
      "top       9 years experience\n",
      "freq                     419\n",
      "Name: Experience, dtype: object\n",
      "++++++++++++++++++++++++++++++++++++++++++++++++++++++++++++++++++++++++++++++++\n",
      "Null values \n",
      "0\n",
      "++++++++++++++++++++++++++++++++++++++++++++++++++++++++++++++++++++++++++++++++\n",
      "Series value count is \n",
      "9 years experience     419\n",
      "10 years experience    404\n",
      "8 years experience     380\n",
      "11 years experience    374\n",
      "12 years experience    358\n",
      "                      ... \n",
      "66 years experience      1\n",
      "60 years experience      1\n",
      "58 years experience      1\n",
      "64 years experience      1\n",
      "61 years experience      1\n",
      "Name: Experience, Length: 64, dtype: int64\n",
      "++++++++++++++++++++++++++++++++++++++++++++++++++++++++++++++++++++++++++++++++\n",
      "Unique values \n",
      "['24 years experience' '12 years experience' '9 years experience'\n",
      " '20 years experience' '8 years experience' '42 years experience'\n",
      " '10 years experience' '14 years experience' '23 years experience'\n",
      " '5 years experience' '7 years experience' '21 years experience'\n",
      " '19 years experience' '41 years experience' '31 years experience'\n",
      " '25 years experience' '16 years experience' '15 years experience'\n",
      " '11 years experience' '22 years experience' '38 years experience'\n",
      " '6 years experience' '36 years experience' '13 years experience'\n",
      " '18 years experience' '46 years experience' '40 years experience'\n",
      " '49 years experience' '33 years experience' '0 years experience'\n",
      " '27 years experience' '30 years experience' '52 years experience'\n",
      " '60 years experience' '26 years experience' '35 years experience'\n",
      " '34 years experience' '39 years experience' '32 years experience'\n",
      " '17 years experience' '28 years experience' '58 years experience'\n",
      " '4 years experience' '45 years experience' '44 years experience'\n",
      " '3 years experience' '37 years experience' '50 years experience'\n",
      " '29 years experience' '43 years experience' '54 years experience'\n",
      " '66 years experience' '2 years experience' '51 years experience'\n",
      " '47 years experience' '48 years experience' '53 years experience'\n",
      " '56 years experience' '61 years experience' '59 years experience'\n",
      " '57 years experience' '55 years experience' '65 years experience'\n",
      " '64 years experience']\n",
      "++++++++++++++++++++++++++++++++++++++++++++++++++++++++++++++++++++++++++++++++\n",
      "Details of Rating\n",
      "Stats summary \n",
      "count     3556\n",
      "unique      52\n",
      "top       100%\n",
      "freq       907\n",
      "Name: Rating, dtype: object\n",
      "++++++++++++++++++++++++++++++++++++++++++++++++++++++++++++++++++++++++++++++++\n",
      "Null values \n",
      "4392\n",
      "++++++++++++++++++++++++++++++++++++++++++++++++++++++++++++++++++++++++++++++++\n",
      "Series value count is \n",
      "100%    907\n",
      "98%     402\n",
      "99%     327\n",
      "97%     325\n",
      "96%     285\n",
      "95%     225\n",
      "94%     166\n",
      "93%     143\n",
      "92%      95\n",
      "90%      95\n",
      "91%      86\n",
      "88%      54\n",
      "89%      53\n",
      "85%      35\n",
      "83%      32\n",
      "82%      32\n",
      "86%      27\n",
      "80%      26\n",
      "87%      25\n",
      "84%      20\n",
      "77%      17\n",
      "67%      17\n",
      "71%      16\n",
      "81%      15\n",
      "79%      15\n",
      "73%      13\n",
      "76%      13\n",
      "60%      11\n",
      "75%       8\n",
      "70%       8\n",
      "78%       7\n",
      "74%       7\n",
      "69%       6\n",
      "68%       5\n",
      "55%       5\n",
      "56%       5\n",
      "64%       4\n",
      "72%       3\n",
      "57%       3\n",
      "63%       2\n",
      "53%       2\n",
      "65%       2\n",
      "62%       2\n",
      "33%       2\n",
      "48%       1\n",
      "58%       1\n",
      "47%       1\n",
      "40%       1\n",
      "7%        1\n",
      "45%       1\n",
      "52%       1\n",
      "36%       1\n",
      "Name: Rating, dtype: int64\n",
      "++++++++++++++++++++++++++++++++++++++++++++++++++++++++++++++++++++++++++++++++\n",
      "Unique values \n",
      "['100%' '98%' nan '99%' '79%' '95%' '97%' '94%' '88%' '90%' '80%' '93%'\n",
      " '36%' '78%' '87%' '96%' '82%' '89%' '74%' '86%' '92%' '83%' '76%' '85%'\n",
      " '56%' '91%' '68%' '60%' '75%' '69%' '73%' '67%' '77%' '33%' '55%' '71%'\n",
      " '84%' '45%' '63%' '72%' '81%' '62%' '57%' '7%' '48%' '40%' '70%' '64%'\n",
      " '65%' '47%' '58%' '53%' '52%']\n",
      "++++++++++++++++++++++++++++++++++++++++++++++++++++++++++++++++++++++++++++++++\n",
      "Details of Place\n",
      "Stats summary \n",
      "count                    7917\n",
      "unique                    948\n",
      "top       HSRLayout,Bangalore\n",
      "freq                       97\n",
      "Name: Place, dtype: object\n",
      "++++++++++++++++++++++++++++++++++++++++++++++++++++++++++++++++++++++++++++++++\n",
      "Null values \n",
      "31\n",
      "++++++++++++++++++++++++++++++++++++++++++++++++++++++++++++++++++++++++++++++++\n",
      "Series value count is \n",
      "HSRLayout,Bangalore           97\n",
      "AndheriWest,Mumbai            97\n",
      "Dwarka,Delhi                  93\n",
      "BanjaraHills,Hyderabad        85\n",
      "MulundWest,Mumbai             81\n",
      "                              ..\n",
      "Puthenvelikkara,Ernakulam      1\n",
      "RohiniSector24,Delhi           1\n",
      "RadhakrishnanSalai,Chennai     1\n",
      "KrishnaNagar,Hyderabad         1\n",
      "Kaudiar,Thiruvananthapuram     1\n",
      "Name: Place, Length: 948, dtype: int64\n",
      "++++++++++++++++++++++++++++++++++++++++++++++++++++++++++++++++++++++++++++++++\n",
      "Unique values \n",
      "['Kakkanad,Ernakulam' 'Whitefield,Bangalore' 'Mathikere-BEL,Bangalore'\n",
      " 'BannerghattaRoad,Bangalore' 'Keelkattalai,Chennai' 'Porur,Chennai'\n",
      " 'KarolBagh,Delhi' 'Arekere,Bangalore' 'OldCity,Hyderabad'\n",
      " 'Athani,Ernakulam' 'ThousandLights,Chennai' 'Somajiguda,Hyderabad'\n",
      " 'CoimbatoreRacecourse,Coimbatore' 'JubileeHills,Hyderabad' 'Kondli,Delhi'\n",
      " 'SaroorNagar,Hyderabad' 'TambaramWest,Chennai' 'Purasawakkam,Chennai'\n",
      " 'KPHB,Hyderabad' 'HSRLayout,Bangalore' 'Pollachi,Coimbatore'\n",
      " 'VasundhraEnclave,Delhi' 'Chembur,Mumbai' 'Thammanam,Ernakulam'\n",
      " 'Andheri,Mumbai' 'Pattom,Thiruvananthapuram' 'Kukatpally,Hyderabad'\n",
      " 'Vadavalli,Coimbatore' 'DefenceColony,Delhi' 'BanjaraHills,Hyderabad'\n",
      " 'SionWest,Mumbai' 'CRPark,Delhi' 'MogappairEast,Chennai'\n",
      " 'IPExtension,Delhi' 'SafdarjungEnclave,Delhi' 'NewFriendsColony,Delhi'\n",
      " 'BorivaliWest,Mumbai' 'Saket,Delhi' 'Malad,Mumbai' 'HyderNagar,Hyderabad'\n",
      " 'DahisarWest,Mumbai' 'RTNagar,Bangalore' 'Powai,Mumbai'\n",
      " 'Basheerbagh,Hyderabad' 'Musheerabad,Hyderabad' 'ASRaoNagar,Hyderabad'\n",
      " 'Madhapur,Hyderabad' 'Gandhinagar,Hyderabad' 'Chetpet,Chennai'\n",
      " 'VileparleEast,Mumbai' 'YelahankaNewTown,Bangalore' 'Kodambakkam,Chennai'\n",
      " 'Malleswaram,Bangalore' 'Pallikaranai,Chennai' 'Nallakunta,Hyderabad'\n",
      " 'PaschimVihar,Delhi' 'MeeraBagh,Delhi' 'Chattarpur,Delhi'\n",
      " 'AndheriWest,Mumbai' 'HimayatNagar,Hyderabad' 'Adambakkam,Chennai'\n",
      " 'PunjabiBagh,Delhi' 'Mahalaxmi,Mumbai' 'Kalina,Mumbai'\n",
      " 'Attapur,Hyderabad' 'Lakdikapul,Hyderabad' 'Ambattur,Chennai'\n",
      " 'Ramnagar,Coimbatore' 'ShalimarBagh,Delhi' 'Nungambakkam,Chennai'\n",
      " 'Miyapur,Hyderabad' 'Sagarpur,Delhi' 'Girgaon,Mumbai'\n",
      " 'Jayanagar,Bangalore' 'Palayam,Thiruvananthapuram' 'Munirka,Delhi'\n",
      " 'Tuglakabad,Delhi' 'Moosarambagh,Hyderabad' nan 'AnnaNagarEast,Chennai'\n",
      " 'BandraWest,Mumbai' 'KanakpuraRoad,Bangalore' 'GreenPark,Delhi'\n",
      " 'Maduravoyal,Chennai' 'DahisarEast,Mumbai' 'Moosapet,Hyderabad'\n",
      " 'Koramangala,Bangalore' 'TVMedicalCollege,Thiruvananthapuram'\n",
      " 'Kadavanthra,Ernakulam' 'GreamsRoad,Chennai' 'Bommanahalli,Bangalore'\n",
      " 'TNagar,Chennai' 'Yelahanka,Bangalore' 'HazratNizamuddin,Delhi'\n",
      " 'OldRajendraNagar,Delhi' 'DadarWest,Mumbai' 'Indiranagar,Bangalore'\n",
      " 'Perumbakkam,Chennai' 'Shaikpet,Hyderabad' 'Vyttila,Ernakulam'\n",
      " 'KharWest,Mumbai' 'GoregaonWest,Mumbai' 'Bakkarwala,Delhi'\n",
      " 'Nesapakkam,Chennai' 'BTMLayout2ndStage,Bangalore' 'AshokNagar,Chennai'\n",
      " 'Chandivali,Mumbai' 'UttamNagar,Delhi' 'GujranwalaTown,Delhi'\n",
      " 'GreaterKailashPart1,Delhi' 'PanchsheelPark,Delhi' 'Thoraipakkam,Chennai'\n",
      " 'SouthExtension2,Delhi' 'KandivaliEast,Mumbai' 'Pitampura,Delhi'\n",
      " 'Banashankari3rdStage,Bangalore' 'Kolenchery,Ernakulam'\n",
      " 'KumaraswamyLayout,Bangalore' 'Vadapalani,Chennai' 'Manikonda,Hyderabad'\n",
      " 'Gandhipuram,Coimbatore' 'Yeshwanthpur,Bangalore' 'Ayanavaram,Chennai'\n",
      " 'Basaveshwaranagar,Bangalore' 'MaladWest,Mumbai' 'VikasPuri,Delhi'\n",
      " 'Kondapur,Hyderabad' 'AndheriEast,Mumbai' 'Sulur,Coimbatore'\n",
      " 'Adyar,Chennai' 'KrishnaNagar,Delhi' 'LangerHouse,Hyderabad'\n",
      " 'Thiruvanmiyur,Chennai' 'Dwarka,Delhi' 'BhandupWest,Mumbai'\n",
      " 'JanakPuri,Delhi' 'Rajajinagar,Bangalore' 'SouthExtension1,Delhi'\n",
      " 'KempsCorner,Mumbai' 'Peelamedu,Coimbatore' 'KandivaliWest,Mumbai'\n",
      " 'Thevara,Ernakulam' 'WilsonGarden,Bangalore' 'Wadala,Mumbai'\n",
      " 'PaharGanj,Delhi' 'Chanchalguda,Hyderabad' 'Chikkadpally,Hyderabad'\n",
      " 'Pasur-avanashi,Coimbatore' 'Nagarbhavi,Bangalore' 'LajpatNagar,Delhi'\n",
      " 'MayurViharPh-I,Delhi' 'DilshadGarden,Delhi' 'Vijayanagar,Bangalore'\n",
      " 'Alwarpet,Chennai' 'Pappanamcode,Thiruvananthapuram' 'Aluva,Ernakulam'\n",
      " 'NarimanPoint,Mumbai' 'Kilkattalai,Chennai' 'Dilsukhnagar,Hyderabad'\n",
      " 'KurlaWest,Mumbai' 'Begumpet,Hyderabad' 'Kaloor,Ernakulam'\n",
      " 'HitechCity,Hyderabad' 'GoregaonEast,Mumbai' 'Velandipalayam,Coimbatore'\n",
      " 'GhatkoparEast,Mumbai' 'MulundWest,Mumbai' 'Yousufguda,Hyderabad'\n",
      " 'GhatkoparWest,Mumbai' 'TVMBeach,Thiruvananthapuram' 'Vanagaram,Chennai'\n",
      " 'Worli,Mumbai' 'Koramangala1Block,Bangalore' 'SakiViharRoad,Mumbai'\n",
      " 'Versova,Mumbai' 'CVRamanNagar,Bangalore' 'Secunderabad,Hyderabad'\n",
      " 'BTMLayout1stStage,Bangalore' 'Ramkoti,Hyderabad' 'MRCNagar,Chennai'\n",
      " 'Malkajgiri,Hyderabad' 'Gachibowli,Hyderabad' 'MogappairWest,Chennai'\n",
      " 'MayurViharPh-III,Delhi' 'KurlaEast,Mumbai' 'AshokVihar,Delhi'\n",
      " 'Mahim,Mumbai' 'Villivakkam,Chennai' 'SrinagarColony,Hyderabad'\n",
      " 'Chromepet,Chennai' 'Pammal,Chennai' 'Banashankari,Bangalore'\n",
      " 'Velachery,Chennai' 'Chanakyapuri,Delhi' 'KalyanNagar,Bangalore'\n",
      " 'Oshiwara,Mumbai' 'Karapakkam,Chennai' 'Borivali,Mumbai'\n",
      " 'Mylapore,Chennai' 'ElectronicsCity,Bangalore' 'Perungudi,Chennai'\n",
      " 'Basavanagudi,Bangalore' 'MGRoad,Bangalore' 'Thiruvottiyur,Chennai'\n",
      " 'GreaterKailashPart2,Delhi' 'Bilekahalli,Bangalore' 'Nanganallur,Chennai'\n",
      " 'Rohini,Delhi' 'Thrikkakara,Ernakulam' 'Manapakkam,Chennai'\n",
      " 'Bellandur,Bangalore' 'Ameerpet,Hyderabad'\n",
      " 'Thiruvallom,Thiruvananthapuram' 'R.S.Puram,Coimbatore'\n",
      " 'Kumarapuram,Thiruvananthapuram' 'PalamColony,Delhi' 'Manali,Chennai'\n",
      " 'Valasaravakkam,Chennai' 'Barkatpura,Hyderabad' 'Singanallur,Coimbatore'\n",
      " 'Mulund,Mumbai' 'DadarEast,Mumbai' 'Borabanda,Hyderabad'\n",
      " 'ModelTown3,Delhi' 'Ulsoor,Bangalore' 'BhayandarWest,Mumbai'\n",
      " 'HariNagar,Delhi' 'Horamavu,Bangalore' 'SantacruzEast,Mumbai'\n",
      " 'OMRRoad,Chennai' 'KammanaHalli,Bangalore' 'TilakNagar,Delhi'\n",
      " 'Panathur,Bangalore' 'Rajarajeshwarinagar,Bangalore' 'Paravur,Ernakulam'\n",
      " 'PreetVihar,Delhi' 'ChemburEast,Mumbai' 'Jakkur,Bangalore'\n",
      " 'Vanasthalipuram,Hyderabad' 'Mandaveli,Chennai'\n",
      " 'KumaraParkWest,Bangalore' 'Domlur,Bangalore'\n",
      " 'Jeevanbhimanagar,Bangalore' 'SantacruzWest,Mumbai' 'ShankarVihar,Delhi'\n",
      " 'JogeshwariEast,Mumbai' 'Kasavanahalli,Bangalore'\n",
      " 'Ambalamukku,Thiruvananthapuram' 'JhilmilColony,Delhi'\n",
      " 'DwarkaSector7,Delhi' 'Tatabad,Coimbatore' 'MarineLines,Mumbai'\n",
      " 'Tolichowki,Hyderabad' 'Sundarapuram,Coimbatore' 'Kothanur,Bangalore'\n",
      " 'ChinmayaNagar,Chennai' 'VasantVihar,Delhi' 'Mehdipatnam,Hyderabad'\n",
      " 'Kadugodi,Bangalore' 'Ganapathy,Coimbatore' 'SRNagar,Hyderabad'\n",
      " 'Perambur,Chennai' 'OperaHouse,Mumbai' 'Selvapuram,Coimbatore'\n",
      " 'Karkardooma,Delhi' 'Alwarthirunagar,Chennai' 'KRPuram,Bangalore'\n",
      " 'RameshNagar,Delhi' 'Malakpet,Hyderabad' 'Tondiarpet,Chennai'\n",
      " 'VikrampuriColony,Hyderabad' 'BesantNagar,Chennai' 'VasantKunj,Delhi'\n",
      " 'Banaswadi,Bangalore' 'BTMLayout,Bangalore' 'Medavakkam,Chennai'\n",
      " 'VileparleWest,Mumbai' 'Sahakaranagar,Bangalore' 'LBNagar,Hyderabad'\n",
      " 'Punjagutta,Hyderabad' 'YamunaVihar,Delhi' 'Marathahalli,Bangalore'\n",
      " 'JPNagar2Phase,Bangalore' 'RaniBagh,Delhi' 'Jayamahal,Bangalore'\n",
      " 'Nagpada,Mumbai' 'Kundalahalli,Bangalore' 'KailashColony,Delhi'\n",
      " 'PandavNagar,Delhi' 'Karkhana,Hyderabad' 'WestMambalam,Chennai'\n",
      " 'Aminjikarai,Chennai' 'Madipakkam,Chennai' 'Charkop,Mumbai'\n",
      " 'AdarshNagar,Delhi' 'Dadar,Mumbai' 'Kaggadasapura,Bangalore'\n",
      " 'Matunga,Mumbai' 'Suncity,Hyderabad' 'Mahadevapura,Bangalore'\n",
      " 'Kalady,Ernakulam' 'AnnaNagarWest,Chennai' 'MayurViharPh-II,Delhi'\n",
      " 'TisHazari,Delhi' 'Vennala,Ernakulam' 'MiraRoad,Mumbai' 'Alwal,Hyderabad'\n",
      " 'Trimulgherry,Hyderabad' 'RajaAnnamalaiPuram,Chennai'\n",
      " 'JPNagar7Phase,Bangalore' 'OldBowenpally,Hyderabad'\n",
      " 'SantoshNagar,Hyderabad' 'HopeCollege,Coimbatore' 'MulundEast,Mumbai'\n",
      " 'MountRoad,Chennai' 'PatelNagarWest,Delhi' 'Jayanagar4Block,Bangalore'\n",
      " 'WestMarredpally,Hyderabad' 'JagritiEnclave,Delhi' 'SaritaVihar,Delhi'\n",
      " 'RajendraNagar,Hyderabad' 'Thudiyalur,Coimbatore' 'BhayandarEast,Mumbai'\n",
      " 'Narayanguda,Hyderabad' 'Kothapet,Hyderabad' 'KKNagar,Chennai'\n",
      " 'Tripunithura,Ernakulam' 'ModelTown,Delhi' 'SuchitraCircle,Hyderabad'\n",
      " 'PusaRoad,Delhi' 'VijaynagarColony,Hyderabad' 'Alandur,Chennai'\n",
      " 'CuffeParade,Mumbai' 'Kalkaji,Delhi' 'SaibabaColony,Coimbatore'\n",
      " 'Kattakada,Thiruvananthapuram' 'JogeshwariWest,Mumbai'\n",
      " 'Erragadda,Hyderabad' 'TilakNagar,Hyderabad' 'Edapally,Ernakulam'\n",
      " 'Patparganj,Delhi' 'Sainikpuri,Hyderabad' 'Nanjundapuram,Coimbatore'\n",
      " 'Nizampet,Hyderabad' 'Kolathur,Chennai' 'Chamarajpet,Bangalore'\n",
      " 'KalaGhoda,Mumbai' 'PadmaraoNagar,Hyderabad' 'Uppal,Hyderabad'\n",
      " 'Guduvanchery,Chennai' 'SatyaNiketan,Delhi' 'ChandaNagar,Hyderabad'\n",
      " 'Sowripalayam,Coimbatore' 'VikhroliWest,Mumbai' 'RajouriGarden,Delhi'\n",
      " 'Alaknanda,Delhi' 'MillersRoad,Bangalore' 'Kandanchavadi,Chennai'\n",
      " 'VigyanVihar,Delhi' 'BandraEast,Mumbai' 'Vilankurichi,Coimbatore'\n",
      " 'MaladEast,Mumbai' 'Prabhadevi,Mumbai' 'Ulloor,Thiruvananthapuram'\n",
      " 'Rajakilpakkam,Chennai' 'GreaterKailash,Delhi' 'Madinaguda,Hyderabad'\n",
      " 'BorivaliEast,Mumbai' 'Juhu,Mumbai' 'Mugalivakkam,Chennai'\n",
      " 'Hebbal,Bangalore' 'KirtiNagar,Delhi' 'Balaramapuram,Thiruvananthapuram'\n",
      " 'BhandupEast,Mumbai' 'VVPuram,Bangalore' 'Kilpauk,Chennai'\n",
      " 'JacobCircle,Mumbai' 'Singasandra,Bangalore' 'Khairatabad,Hyderabad'\n",
      " 'CoimbatoreAerodrome,Coimbatore' 'J.CNagar,Bangalore'\n",
      " 'NarainaVihar,Delhi' 'Virugambakkam,Chennai' 'RKPuram,Delhi'\n",
      " 'Banashankari1stStage,Bangalore' 'LajpatNagar4,Delhi'\n",
      " 'Jayanagar5Block,Bangalore' 'Kalyanpuri,Hyderabad' 'Tambaram,Chennai'\n",
      " 'LaxmiNagar,Delhi' 'AnandVihar,Delhi' 'CharniRoad,Mumbai'\n",
      " 'PatelNagarEast,Delhi' 'Jayanagar9Block,Bangalore' 'Ecil,Hyderabad'\n",
      " 'RamamurthyNagar,Bangalore' 'RajNagar-2,Delhi' 'Chunabhatti,Mumbai'\n",
      " 'VikhroliEast,Mumbai' 'Shakarpur,Delhi' 'Shahdara,Delhi' 'Govandi,Mumbai'\n",
      " 'MiraBhayandar,Mumbai' 'Doddanekundi,Bangalore' 'MadhuVihar,Delhi'\n",
      " 'Guindy,Chennai' 'Palarivattom,Ernakulam' 'Charminar,Hyderabad'\n",
      " 'OldAirportRoad,Bangalore' 'SarjapurRoad,Bangalore' 'Okhla,Delhi'\n",
      " 'Baghlingampally,Hyderabad' 'Trombay,Mumbai' 'HRBRLayout,Bangalore'\n",
      " 'Fort,Mumbai' 'ShastriNagar,Delhi' 'RedHills,Chennai'\n",
      " 'NewBELRoad,Bangalore' 'ParkTown,Chennai' 'FrazerTown,Bangalore'\n",
      " 'Falaknuma,Hyderabad' 'RohiniSector7,Delhi' 'EastOfKailash,Delhi'\n",
      " 'Chintadripet,Chennai' 'TagoreGarden,Delhi' 'TriNagar,Delhi'\n",
      " 'Muttada,Thiruvananthapuram' 'Munnekollal,Bangalore'\n",
      " 'TVMuseum,Thiruvananthapuram' 'Shivalik,Delhi' 'NebSarai,Delhi'\n",
      " 'MahalakshmiLayout,Bangalore' 'Mankhurd,Mumbai' 'KamlaNagar,Delhi'\n",
      " 'Saravanampatti,Coimbatore' 'Selaiyur,Chennai' 'Saligramam,Chennai'\n",
      " 'Thirumullaivoyal,Chennai' 'Teynampet,Chennai' 'Kochi,Ernakulam'\n",
      " 'Vidyaranyapura,Bangalore' 'Mogappair,Chennai' 'Mazgaon,Mumbai'\n",
      " 'ShivajiNagar,Bangalore' 'Jangpura,Delhi'\n",
      " 'KaudiarSquare,Thiruvananthapuram' 'Arumbakkam,Chennai'\n",
      " 'Cherai,Ernakulam' 'Mira-BhayandarRoad,Mumbai' 'RamNagar,Delhi'\n",
      " 'Parel,Mumbai' 'Thanisandra,Bangalore' 'PragathiNagar,Hyderabad'\n",
      " 'Karamana,Thiruvananthapuram' 'AECSLayout,Bangalore'\n",
      " 'NizamuddinEast,Delhi' 'Ramanathapuram,Coimbatore' 'AnnaNagar,Chennai'\n",
      " 'ShenoyNagar,Chennai' 'Siddhapudur,Coimbatore' 'KeshavPuram,Delhi'\n",
      " 'Edakochi,Ernakulam' 'Nagawara,Bangalore' 'Chintal,Hyderabad'\n",
      " 'MalviyaNagar,Delhi' 'Karwan,Hyderabad' 'Vazhakulam,Ernakulam'\n",
      " 'PMGJn,Thiruvananthapuram' 'DwarkaSector6,Delhi' 'Viveknagar,Bangalore'\n",
      " 'Balapur,Hyderabad' 'Banashankari2ndStage,Bangalore' 'Azadpur,Delhi'\n",
      " 'MotiNagar,Delhi' 'Sakinaka,Mumbai' 'Thoppumpady,Ernakulam'\n",
      " 'SanathNagar,Hyderabad' 'Royapettah,Chennai'\n",
      " 'Koramangala5Block,Bangalore' 'Kanjurmarg,Mumbai'\n",
      " 'ErnakulamCollege,Ernakulam' 'Urapakkam,Chennai'\n",
      " 'CoimbatoreUkkadam,Coimbatore' 'Sreekaryam,Thiruvananthapuram'\n",
      " 'ErnakulamNorth,Ernakulam' 'Sultanpur,Delhi' 'BanerjiRoad,Ernakulam'\n",
      " 'Balkampet,Hyderabad' 'Kavundampalayam,Coimbatore'\n",
      " 'Kanchanbagh,Hyderabad' 'PatelNagar,Delhi' 'Kilokri,Delhi'\n",
      " 'Hoodi,Bangalore' 'NewSeemapuri,Delhi' 'Seshadripuram,Bangalore'\n",
      " 'Vijaynagar,Delhi' 'Bowenpally,Hyderabad' 'Ondipudur,Coimbatore'\n",
      " 'Triplicane,Chennai' 'RichmondTown,Bangalore' 'NewRajendraNagar,Delhi'\n",
      " 'Jahangirpuri,Delhi' 'VivekVihar,Delhi' 'Malleshpalya,Bangalore'\n",
      " 'Pezhakkappilly,Ernakulam' 'Lingampally,Hyderabad' 'JamiaNagar,Delhi'\n",
      " 'BegumBazar,Hyderabad' 'LowerParel,Mumbai' 'ECRRoad,Chennai'\n",
      " 'Nangloi,Delhi' 'Chintalmet,Hyderabad' 'WestOfChordRoad,Bangalore'\n",
      " 'SVRoad,Mumbai' 'JPNagar5Phase,Bangalore' 'SanjayNagar,Bangalore'\n",
      " 'PanampillyNagar,Ernakulam' 'Dharavi,Mumbai' 'Abbigere,Bangalore'\n",
      " 'Manacaud,Thiruvananthapuram' 'Poonamalle,Chennai' 'Najafgarh,Delhi'\n",
      " 'Uttarahalli,Bangalore' 'Sembakkam,Chennai' 'Tarnaka,Hyderabad'\n",
      " 'Nandanam,Chennai' 'Saidapet,Chennai' 'Choolaimedu,Chennai'\n",
      " 'Perungalathur,Chennai' 'GulabiBagh,Delhi' 'Jasola,Delhi'\n",
      " 'JPNagar3Phase,Bangalore' 'Uppilipalayam,Coimbatore'\n",
      " 'Sadashivanagar,Bangalore' 'RohiniSector24,Delhi'\n",
      " 'Muvattupuzha,Ernakulam' 'KhanMarket,Delhi' 'Abids,Hyderabad'\n",
      " 'GeetaColony,Delhi' 'Madandapuram,Chennai' 'DwarkaSector22,Delhi'\n",
      " 'GrantRoad,Mumbai' 'Jeedimetla,Hyderabad' 'TambaramEast,Chennai'\n",
      " 'Kothaguda,Hyderabad' 'HauzKhas,Delhi' 'Habsiguda,Hyderabad'\n",
      " 'BreachCandy,Mumbai' 'Vidyanagar,Bangalore' 'Begur,Bangalore'\n",
      " 'Dahisar,Mumbai' 'Pachalam,Ernakulam' 'Perumbavoor,Ernakulam'\n",
      " 'Avadi,Chennai' 'CoimbatoreCentral,Coimbatore' 'Lokhandwala,Mumbai'\n",
      " 'Tiruvottiyur,Chennai' 'UllalUpanagara,Bangalore'\n",
      " 'Perurkada,Thiruvananthapuram' 'AshokViharPhase3,Delhi'\n",
      " 'Walkeshwar,Mumbai' 'Saidabad,Hyderabad' 'Koramangala6Block,Bangalore'\n",
      " 'NewAshokNagar,Delhi' 'PeddarRoad,Mumbai' 'AyaNagar,Delhi'\n",
      " 'JPNagar,Bangalore' 'Sasthamangalam,Thiruvananthapuram'\n",
      " 'Yakutpura,Hyderabad' 'Sampangiramnagar,Bangalore'\n",
      " 'Kasturinagar,Bangalore' 'Pallavaram,Chennai' 'MotiBagh,Delhi'\n",
      " 'MukherjeeNagar,Delhi' 'Byculla,Mumbai' 'Peeragarhi,Delhi'\n",
      " 'Amberpet,Hyderabad' 'JPNagar6Phase,Bangalore' 'Sholinganallur,Chennai'\n",
      " 'LangfordRoad,Bangalore' 'CumballaHill,Mumbai' 'Colaba,Mumbai'\n",
      " 'QutabInstitutionalArea,Delhi' 'Dommasandra,Bangalore'\n",
      " 'MalabarHill,Mumbai' 'Koramangala8Block,Bangalore' 'RohiniSector22,Delhi'\n",
      " 'Lothkunta,Hyderabad' 'HAL2ndStage,Bangalore' 'Jayanagar7Block,Bangalore'\n",
      " 'Vadasserikonam,Thiruvananthapuram' 'EastMarredpally,Hyderabad'\n",
      " 'Kelambakkam,Chennai' 'Chinchpokli,Mumbai' 'DelhiCantt,Delhi'\n",
      " 'Padmanabhanagar,Bangalore' 'SheikhSarai,Delhi' 'Washermenpet,Chennai'\n",
      " 'Konanakunte,Bangalore' 'AshokViharPhase1,Delhi'\n",
      " 'Thirumala,Thiruvananthapuram' 'Sarjapura,Bangalore'\n",
      " 'JPNagar1Phase,Bangalore' 'JBNagar,Mumbai'\n",
      " 'Paruthippara,Thiruvananthapuram' 'Vikhroli,Mumbai'\n",
      " 'JPNagar8Phase,Bangalore' 'GTBNagar,Delhi' 'Vidyanagar,Hyderabad'\n",
      " 'MasabTank,Hyderabad' 'Hafeezpet,Hyderabad' 'JeevanPark,Delhi'\n",
      " 'DwarkaSector5,Delhi' 'CivilLines,Delhi' 'AnandNiketan,Delhi'\n",
      " 'Pappanaickenpalayam,Coimbatore' 'Koovappady,Ernakulam'\n",
      " 'Dwarka,Sector5,Delhi' 'Srirampuram,Bangalore' 'Korattur,Chennai'\n",
      " 'Pappanaickenpudur,Coimbatore' 'GandhiNagar,Delhi'\n",
      " 'VignanNagar,Bangalore' 'Ganganagar,Bangalore' 'Elamakkara,Ernakulam'\n",
      " 'Boduppal,Hyderabad' 'TilakNagar,Mumbai' 'Khetwadi,Mumbai'\n",
      " 'Kengeri,Bangalore' 'SionEast,Mumbai' 'RohiniSector6,Delhi'\n",
      " 'Kazhakuttam,Thiruvananthapuram' 'Goregaon,Mumbai'\n",
      " 'Peroor,Thiruvananthapuram' 'NewThippasandra,Bangalore'\n",
      " 'Jalahalli,Bangalore' 'KingKoti,Hyderabad'\n",
      " 'Kallambalam,Thiruvananthapuram' 'DwarkaSector13,Delhi'\n",
      " 'ResidencyRoad,Bangalore' 'RadhakrishnanSalai,Chennai'\n",
      " 'Hulimavu,Bangalore' 'Dasarahalli,Bangalore' 'Vileparle,Mumbai'\n",
      " 'Delhi,Delhi' 'Kachiguda,Hyderabad' 'Venkitapuram,Coimbatore'\n",
      " 'Kuniamuthur,Coimbatore' 'TVChalai,Thiruvananthapuram'\n",
      " 'Serilingampally,Hyderabad' 'RMV2ndStage,Bangalore' 'Champapet,Hyderabad'\n",
      " 'SuryaNiketan,Delhi' 'Kovilpalayam,Coimbatore' 'Nampally,Hyderabad'\n",
      " 'Siddapura,Bangalore' 'Neredmet,Hyderabad' 'Vellakinar,Coimbatore'\n",
      " 'Egmore,Chennai' 'KatwariaSarai,Delhi' 'Navalur,Chennai' 'Mehrauli,Delhi'\n",
      " 'HBRLayout,Bangalore' 'SubhashNagar,Delhi' 'Mallepally,Hyderabad'\n",
      " 'EroorSouth,Ernakulam' 'LajpatNagarIII,Delhi' 'Kodungaiyur,Chennai'\n",
      " 'Kuppakonanpudur,Coimbatore' 'Paradise,Hyderabad' 'RohiniSector4,Delhi'\n",
      " 'Koramangala4Block,Bangalore' 'DwarkaSector3,Delhi' 'DurgaPuri,Delhi'\n",
      " 'Kalamassery,Ernakulam' 'GulmoharPark,Delhi' 'Adugodi,Bangalore'\n",
      " 'MotiNagar,Hyderabad' 'Nallagandla,Hyderabad' 'Gowrivakkam,Chennai'\n",
      " 'PeriyarNagar,Chennai' 'AustinTown,Bangalore' 'Afzalgunj,Hyderabad'\n",
      " 'CottonHill,Thiruvananthapuram' 'Goldwins,Coimbatore'\n",
      " 'Kuravankonam,Thiruvananthapuram' 'RohiniSector3,Delhi' 'LadoSarai,Delhi'\n",
      " 'Koramangala2Block,Bangalore' 'Madangir,Delhi' 'MarineDrive,Mumbai'\n",
      " 'MarineDrive,Ernakulam' 'Angamaly,Ernakulam' 'Neelankarai,Chennai'\n",
      " 'Churchgate,Mumbai' 'Kalapatti,Coimbatore' 'NandNagri,Delhi'\n",
      " 'Kandivali,Mumbai' 'Madanpura,Mumbai' 'HegdeNagar,Bangalore'\n",
      " 'Domalguda,Hyderabad' 'MumbaiCentral,Mumbai' 'Vasanthnagar,Bangalore'\n",
      " 'Kapashera,Delhi' 'AugustKrantiMarg,Delhi' 'KrishnaNagar,Hyderabad'\n",
      " 'Lalbaug,Mumbai' 'Perumathura,Thiruvananthapuram' 'Molarband,Delhi'\n",
      " 'Piravom,Ernakulam' 'NeetiBagh,Delhi' 'Kishanbagh,Hyderabad'\n",
      " 'Shantinagar,Bangalore' 'Poojapura,Thiruvananthapuram'\n",
      " 'Rathinapuri,Coimbatore' 'ModelTown1,Delhi' 'Koothattukulam,Ernakulam'\n",
      " 'AnandLok,Delhi' 'PappanaickenpalayamWest,Coimbatore' 'SubziMandi,Delhi'\n",
      " 'Sion,Mumbai' 'Nagole,Hyderabad' 'TVMPettah,Thiruvananthapuram'\n",
      " 'ChangampuzhaNagar,Ernakulam' 'Puzhal,Chennai'\n",
      " 'Vanchiyur,Thiruvananthapuram' 'SukhVihar,Delhi'\n",
      " 'Kovalam,Thiruvananthapuram' 'SwasthyaVihar,Delhi' 'Tardeo,Mumbai'\n",
      " 'VishnuGarden,Delhi' 'Jayanagar1Block,Bangalore' 'SionKoliwada,Mumbai'\n",
      " 'Marol,Mumbai' 'Kalkere,Bangalore' 'SindhiColony,Hyderabad'\n",
      " 'Silampur,Delhi' 'Varthur,Bangalore' 'ModelTown2,Delhi'\n",
      " 'SurajmalVihar,Delhi' 'ChandniChowk,Delhi' 'Veerakeralam,Coimbatore'\n",
      " 'TDasarahalli,Bangalore' 'Kaggalipura,Bangalore'\n",
      " 'Thonnakkal,Thiruvananthapuram' 'Manjapra,Ernakulam'\n",
      " 'Yellareddyguda,Hyderabad' 'Kovilambakkam,Chennai' 'Broadway,Chennai'\n",
      " 'Podanur,Coimbatore' 'Kompally,Hyderabad' 'Kottivakkam,Chennai'\n",
      " 'MansaroverGarden,Delhi' 'Mandapeshwar,Mumbai' 'RohiniSector15,Delhi'\n",
      " 'Vaduthala,Ernakulam' 'HebbalKempapura,Bangalore' 'Sithalapakkam,Chennai'\n",
      " 'MKBNagar,Chennai' 'MGRoad,Hyderabad' 'DaryaGanj,Delhi'\n",
      " 'Venjaramoodu,Thiruvananthapuram' 'Kotturpuram,Chennai'\n",
      " 'Ramapuram,Chennai' 'Karmanghat,Hyderabad' 'MoulaAli,Hyderabad'\n",
      " 'NetajiNagar,Delhi' 'ChandraLayout,Bangalore' 'Akshayanagar,Bangalore'\n",
      " 'NirmanVihar,Delhi' 'VasantEnclave,Delhi' 'StThomasMount,Chennai'\n",
      " 'Royapuram,Chennai' 'Abhiramapuram,Chennai' 'InderPuri,Delhi'\n",
      " 'Edayarpalayam,Coimbatore' 'Deoli,Delhi' 'Mulanthuruthy,Ernakulam'\n",
      " 'SukhdevVihar,Delhi' 'e' 'Kothamangalam,Ernakulam' 'Harlur,Bangalore'\n",
      " 'Bolarum,Hyderabad' 'RichardsTown,Bangalore' 'Narela,Delhi'\n",
      " 'NehruPlace,Delhi' 'Ramanthapur,Hyderabad' 'BaliNagar,Delhi'\n",
      " 'Palavakkam,Chennai' 'Balanagar,Hyderabad' 'Hyderguda,Hyderabad'\n",
      " 'Cherannagar,Coimbatore' 'RohiniSector11,Delhi' 'DwarkaSector4,Delhi'\n",
      " 'Palluruthy,Ernakulam' 'Vizhinjam,Thiruvananthapuram' 'Santacruz,Mumbai'\n",
      " 'GaneshNagar,Delhi' 'VengalRaoNagar,Hyderabad' 'Deonar,Mumbai'\n",
      " 'EdapallyNorth,Ernakulam' 'RedHills,Hyderabad' 'IDAJeedimetla,Hyderabad'\n",
      " 'Mettupalayam,Coimbatore' 'Hayathnagar,Hyderabad'\n",
      " 'KakkanadWest,Ernakulam' 'Khajaguda,Hyderabad' 'RohiniSector5,Delhi'\n",
      " 'SaraswatiVihar,Delhi' 'KingswayCamp,Delhi' 'Ramamangalam,Ernakulam'\n",
      " 'Indirapuram,Delhi' 'Parassala,Thiruvananthapuram' 'ConnaughtPlace,Delhi'\n",
      " 'Gottigerre,Bangalore' 'Shivrampally,Hyderabad' 'Vyasarpadi,Chennai'\n",
      " 'Kovaipudur,Coimbatore' 'Vallakkadavoo,Thiruvananthapuram'\n",
      " 'Kattupakkam,Chennai' 'Nellimoodu,Thiruvananthapuram'\n",
      " 'PondyBazaar,Chennai' 'PrashantVihar,Delhi' 'Chullickal,Ernakulam'\n",
      " 'Murugeshpalya,Bangalore' 'Khanpur,Delhi' 'Madiwala,Bangalore'\n",
      " 'DwarkaSector23,Delhi' 'Badarpur,Delhi' 'Peyad,Thiruvananthapuram'\n",
      " 'GandhiNagar,Chennai' 'UdayPark,Delhi' 'Bandlaguda,Hyderabad'\n",
      " 'Karukappilli,Ernakulam' 'RanaPratapBagh,Delhi' 'KochiM.G.Road,Ernakulam'\n",
      " 'Gopalapuram,Chennai' 'Puthenvelikkara,Ernakulam' 'Sowcarpet,Chennai'\n",
      " 'Chitlapakkam,Chennai' 'Malumichampatti,Coimbatore' 'RohiniSector8,Delhi'\n",
      " 'RohiniSector2,Delhi' 'RamNagar,Hyderabad' 'DwarkaSector10,Delhi'\n",
      " 'Agaram,Chennai' 'Poovachal,Thiruvananthapuram' 'ShantiNiketan,Delhi'\n",
      " 'Pothencode,Thiruvananthapuram' 'DickensonRoad,Bangalore'\n",
      " 'RTCXRoad,Hyderabad' 'FilmNagar,Hyderabad' 'LodhiColony,Delhi'\n",
      " 'SGPalya(Kormangla),Bangalore' 'Palkulangara,Thiruvananthapuram'\n",
      " 'Mahalingapuram,Chennai' 'MatungaWest,Mumbai' 'Nettoor,Ernakulam'\n",
      " 'RaniKhera,Delhi' 'Beeramguda,Hyderabad' 'Ramachandrapuram,Hyderabad'\n",
      " 'NeyyattinkaraTown,Thiruvananthapuram' 'Gorai,Mumbai'\n",
      " 'Jayanagar3Block,Bangalore' 'ShaktiNagar,Delhi' 'SangamVihar,Delhi'\n",
      " 'Shakurpur,Delhi' 'Chaitanyapuri,Hyderabad' 'TVMFort,Thiruvananthapuram'\n",
      " 'JPNagar4Phase,Bangalore' 'Nayandahalli,Bangalore'\n",
      " 'Valiathura,Thiruvananthapuram' 'Kowdiar,Thiruvananthapuram'\n",
      " 'CunninghamRoad,Bangalore' 'Hennur,Bangalore' 'Peenya,Bangalore'\n",
      " 'Pattimattam,Ernakulam' 'HAL,Bangalore' 'Madhavaram,Chennai'\n",
      " 'RamakrishnaPuram,Hyderabad' 'VikasNagar,Delhi'\n",
      " 'Chandrayangutta,Hyderabad' 'Ernakulam,Ernakulam' 'Aroor,Ernakulam'\n",
      " 'RohiniWest,Delhi' 'Warasiguda,Hyderabad' 'VishwasNagar,Delhi'\n",
      " 'Bhandup,Mumbai' 'Chickpet,Bangalore' 'Madambakkam,Chennai'\n",
      " 'Kaudiar,Thiruvananthapuram' 'KharEast,Mumbai' 'Tavarekere,Bangalore'\n",
      " 'Kurla,Mumbai' 'MahavirEnclave,Delhi' 'Jayanagar2Block,Bangalore'\n",
      " 'Nacharam,Hyderabad' 'Cheranalloor,Ernakulam' 'Ayanambakkam,Chennai'\n",
      " 'Dindarpur,Delhi' 'Iyyappanthangal,Chennai' 'SarvapriyaVihar,Delhi'\n",
      " 'Pattabiram,Chennai' 'Kudlu,Bangalore' 'Kadubeesanahalli,Bangalore'\n",
      " 'Nemom,Thiruvananthapuram' 'Alipur,Delhi' 'Kanjoor,Ernakulam'\n",
      " 'Nedumbassery,Ernakulam' 'Safilguda,Hyderabad' 'Hastsal,Delhi'\n",
      " 'TvThampanoor,Thiruvananthapuram' 'Mahipalpur,Delhi'\n",
      " 'OuterRingRoad,Bangalore' 'Bhogal,Delhi' 'Nedumangad,Thiruvananthapuram'\n",
      " 'Lingarajapuram,Bangalore' 'Burari,Delhi'\n",
      " 'Seeranaickenpalayam,Coimbatore' 'JPNagar9Phase,Bangalore'\n",
      " 'Bachupally,Hyderabad' 'Jafferkhanpet,Chennai' 'Nandambakkam,Chennai'\n",
      " 'RohiniSector20,Delhi' 'Sriniwaspuri,Delhi' 'Palghar,Mumbai'\n",
      " 'Kapra,Hyderabad' 'SagarRoad,Hyderabad' 'Gamdevi,Mumbai'\n",
      " 'Poothotta,Ernakulam' 'Koramangala7Block,Bangalore' 'KHRoad,Bangalore'\n",
      " 'DelhiCantonment,Delhi' 'Hasthinapuram,Chennai'\n",
      " 'Periyanaickenpalayam,Coimbatore' 'Manchavilakom,Thiruvananthapuram'\n",
      " 'Yemalur,Bangalore' 'Meerpet,Hyderabad' 'Sewri,Mumbai' 'Padi,Chennai'\n",
      " 'Ayyappankavu,Ernakulam' 'KaluSarai,Delhi' 'PratapNagar,Delhi'\n",
      " 'Shadipur,Delhi' 'Hongasandra,Bangalore' 'DwarkaSector12,Delhi'\n",
      " 'BHEL,Hyderabad' 'HosurRoad,Bangalore' 'Choolai,Chennai']\n",
      "++++++++++++++++++++++++++++++++++++++++++++++++++++++++++++++++++++++++++++++++\n",
      "Details of Profile\n",
      "Stats summary \n",
      "count        7948\n",
      "unique          6\n",
      "top       Dentist\n",
      "freq         1838\n",
      "Name: Profile, dtype: object\n",
      "++++++++++++++++++++++++++++++++++++++++++++++++++++++++++++++++++++++++++++++++\n",
      "Null values \n",
      "0\n",
      "++++++++++++++++++++++++++++++++++++++++++++++++++++++++++++++++++++++++++++++++\n",
      "Series value count is \n",
      "Dentist            1838\n",
      "GeneralMedicine    1617\n",
      "Dermatologists     1373\n",
      "Homeopath          1120\n",
      "Ayurveda           1037\n",
      "ENTSpecialist       963\n",
      "Name: Profile, dtype: int64\n",
      "++++++++++++++++++++++++++++++++++++++++++++++++++++++++++++++++++++++++++++++++\n",
      "Unique values \n",
      "['Homeopath' 'Ayurveda' 'ENTSpecialist' 'Dentist' 'GeneralMedicine'\n",
      " 'Dermatologists']\n",
      "++++++++++++++++++++++++++++++++++++++++++++++++++++++++++++++++++++++++++++++++\n",
      "Details of Miscellaneous_Info\n",
      "Stats summary \n",
      "count                                                  4494\n",
      "unique                                                 3980\n",
      "top       Acrylic Partial Denture Crowns and Bridges Fix...\n",
      "freq                                                     50\n",
      "Name: Miscellaneous_Info, dtype: object\n",
      "++++++++++++++++++++++++++++++++++++++++++++++++++++++++++++++++++++++++++++++++\n",
      "Null values \n",
      "3454\n",
      "++++++++++++++++++++++++++++++++++++++++++++++++++++++++++++++++++++++++++++++++\n",
      "Series value count is \n",
      "Acrylic Partial Denture Crowns and Bridges Fixing Artificial Teeth                    50\n",
      "Skin Allergy Treatment Skin Allergies Dermabrasion                                    18\n",
      "Tooth Extraction Dental Fillings Scaling / Polishing                                  16\n",
      "Dental Fillings Zirconia Crowns Dental Implant Fixing                                 15\n",
      "Dermabrasion Laser Resurfacing Acne / Pimples Treatment                               14\n",
      "                                                                                      ..\n",
      "Gum Disease Treatment/ Surgery Dental Implant Fixing Maxillo Facial Prosthodontics     1\n",
      "Conservative Dentistry Cosmetic/ Aesthetic Dentistry Teeth Reshaping                   1\n",
      "7% 11 Feedback Pragathi Nagar, Hyderabad                                               1\n",
      "94% 3 Feedback Kamla Nagar, Delhi                                                      1\n",
      "99% 4 Feedback Kochi, Ernakulam                                                        1\n",
      "Name: Miscellaneous_Info, Length: 3980, dtype: int64\n",
      "++++++++++++++++++++++++++++++++++++++++++++++++++++++++++++++++++++++++++++++++\n",
      "Unique values \n",
      "['100% 16 Feedback Kakkanad, Ernakulam'\n",
      " '98% 76 Feedback Whitefield, Bangalore' nan ...\n",
      " 'General Dentistry Dental Fillings RCT - Single Sitting'\n",
      " '98% 240 Feedback Velachery, Chennai'\n",
      " 'RCT - Root Canal Treatment Root Canal Treatment - Rotary Pyorrhoea Treatment']\n",
      "++++++++++++++++++++++++++++++++++++++++++++++++++++++++++++++++++++++++++++++++\n",
      "Details of Fees\n",
      "Stats summary \n",
      "count    7948.000000\n",
      "mean      718.982008\n",
      "std       751.717502\n",
      "min         5.000000\n",
      "25%       200.000000\n",
      "50%       400.000000\n",
      "75%       991.500000\n",
      "max      3031.000000\n",
      "Name: Fees, dtype: float64\n",
      "++++++++++++++++++++++++++++++++++++++++++++++++++++++++++++++++++++++++++++++++\n",
      "Null values \n",
      "0\n",
      "++++++++++++++++++++++++++++++++++++++++++++++++++++++++++++++++++++++++++++++++\n",
      "Series value count is \n",
      "100     1306\n",
      "500      938\n",
      "200      904\n",
      "300      864\n",
      "400      424\n",
      "        ... \n",
      "2155       1\n",
      "2143       1\n",
      "2131       1\n",
      "2127       1\n",
      "1993       1\n",
      "Name: Fees, Length: 1090, dtype: int64\n",
      "++++++++++++++++++++++++++++++++++++++++++++++++++++++++++++++++++++++++++++++++\n",
      "Unique values \n",
      "[ 100  350  300 ... 1798 2063 1633]\n"
     ]
    }
   ],
   "source": [
    "list = ['Qualification', 'Experience', 'Rating', 'Place', 'Profile','Miscellaneous_Info', 'Fees']\n",
    "for i in list:\n",
    "    cat_ana(d_fe, x = i)"
   ]
  },
  {
   "cell_type": "raw",
   "metadata": {},
   "source": [
    "# We can see that Qualification, Experience, Rating, Place & Miscellaneous_info columns are with multiple data separated by multiple delimiters"
   ]
  },
  {
   "cell_type": "code",
   "execution_count": 983,
   "metadata": {},
   "outputs": [
    {
     "data": {
      "application/javascript": [
       "\n",
       "        if (window._pyforest_update_imports_cell) { window._pyforest_update_imports_cell('import matplotlib.pyplot as plt\\nimport pandas as pd\\nimport seaborn as sns\\nimport numpy as np'); }\n",
       "    "
      ],
      "text/plain": [
       "<IPython.core.display.Javascript object>"
      ]
     },
     "metadata": {},
     "output_type": "display_data"
    },
    {
     "data": {
      "application/javascript": [
       "\n",
       "        if (window._pyforest_update_imports_cell) { window._pyforest_update_imports_cell('import matplotlib.pyplot as plt\\nimport pandas as pd\\nimport seaborn as sns\\nimport numpy as np'); }\n",
       "    "
      ],
      "text/plain": [
       "<IPython.core.display.Javascript object>"
      ]
     },
     "metadata": {},
     "output_type": "display_data"
    },
    {
     "data": {
      "application/javascript": [
       "\n",
       "        if (window._pyforest_update_imports_cell) { window._pyforest_update_imports_cell('import matplotlib.pyplot as plt\\nimport pandas as pd\\nimport seaborn as sns\\nimport numpy as np'); }\n",
       "    "
      ],
      "text/plain": [
       "<IPython.core.display.Javascript object>"
      ]
     },
     "metadata": {},
     "output_type": "display_data"
    },
    {
     "data": {
      "application/javascript": [
       "\n",
       "        if (window._pyforest_update_imports_cell) { window._pyforest_update_imports_cell('import matplotlib.pyplot as plt\\nimport pandas as pd\\nimport seaborn as sns\\nimport numpy as np'); }\n",
       "    "
      ],
      "text/plain": [
       "<IPython.core.display.Javascript object>"
      ]
     },
     "metadata": {},
     "output_type": "display_data"
    },
    {
     "data": {
      "application/javascript": [
       "\n",
       "        if (window._pyforest_update_imports_cell) { window._pyforest_update_imports_cell('import matplotlib.pyplot as plt\\nimport pandas as pd\\nimport seaborn as sns\\nimport numpy as np'); }\n",
       "    "
      ],
      "text/plain": [
       "<IPython.core.display.Javascript object>"
      ]
     },
     "metadata": {},
     "output_type": "display_data"
    },
    {
     "data": {
      "application/javascript": [
       "\n",
       "        if (window._pyforest_update_imports_cell) { window._pyforest_update_imports_cell('import matplotlib.pyplot as plt\\nimport pandas as pd\\nimport seaborn as sns\\nimport numpy as np'); }\n",
       "    "
      ],
      "text/plain": [
       "<IPython.core.display.Javascript object>"
      ]
     },
     "metadata": {},
     "output_type": "display_data"
    },
    {
     "data": {
      "application/javascript": [
       "\n",
       "        if (window._pyforest_update_imports_cell) { window._pyforest_update_imports_cell('import matplotlib.pyplot as plt\\nimport pandas as pd\\nimport seaborn as sns\\nimport numpy as np'); }\n",
       "    "
      ],
      "text/plain": [
       "<IPython.core.display.Javascript object>"
      ]
     },
     "metadata": {},
     "output_type": "display_data"
    }
   ],
   "source": [
    "# Cleaning 'Qualification' columns\n",
    "d_fe_qual = pd.DataFrame(d_fe['Qualification'].str.split(',|-').tolist())\n",
    "d_fe_qual.columns = ['Q1','Q2','Q3','Q4','Q5','Q6','Q7','Q8','Q9','Q10','Q11','Q12','Q13','Q14','Q15','Q16','Q17','Q18']\n",
    "d_fe_qual.drop(['Q5', 'Q6', 'Q7', 'Q8', 'Q9', 'Q10', 'Q11','Q12', 'Q13', 'Q14', 'Q15', 'Q16', 'Q17', 'Q18'],\n",
    "               axis = 1, inplace =True)\n",
    "d_fe_qual.replace('None', 'Missing', inplace = True)\n",
    "d_fe_qual.replace(np.NaN, 'Missing', inplace = True)\n",
    "# Cleaning 'Experience' columns\n",
    "d_fe_exp = pd.DataFrame(d_fe['Experience'].str.split(' ').tolist())\n",
    "d_fe_exp.columns = ['Exp','E1','E2']\n",
    "d_fe_exp.drop(['E1','E2'], axis =1, inplace = True)\n",
    "# Cleaning 'Rating' columns\n",
    "d_fe['Rating'] = d_fe['Rating'].astype(str)\n",
    "d_fe_ra = pd.DataFrame(d_fe['Rating'].str.split('%').tolist())\n",
    "d_fe_ra.columns = ['R1','R2']\n",
    "d_fe_ra.drop(['R2'], axis =1, inplace =True)\n",
    "d_fe_ra.replace('nan', np.NaN, inplace = True)\n",
    "# Cleaning 'Place' columns\n",
    "d_fe['Place'] = d_fe['Place'].astype(str)\n",
    "d_fe_pal = pd.DataFrame(d_fe['Place'].str.split(',').tolist())\n",
    "d_fe_pal.columns=['Area','City','P1']\n",
    "d_fe_pal.drop('P1', axis = 1, inplace = True)\n",
    "d_fe_pal.replace([np.NaN,'e','nan'], 'Missing', inplace = True)\n",
    "d_fe_pal.replace('Sector5','Delhi', inplace = True)\n",
    "# Cleaning 'Miscellaneous_Info' columns & extracting no of feedbacks Feedback received\n",
    "import re\n",
    "def find_feedback(data):\n",
    "    result = re.search(r' (.*?) Feedback',data)\n",
    "    if result:\n",
    "        return int(result.group(1))\n",
    "    else:\n",
    "        return 0\n",
    "    \n",
    "    \n",
    "    \n",
    "d_fe['feedack_num'] =d_fe.Miscellaneous_Info.apply(lambda x: find_feedback(x) if '%' in str(x) else 0)\n"
   ]
  },
  {
   "cell_type": "code",
   "execution_count": 984,
   "metadata": {},
   "outputs": [
    {
     "data": {
      "application/javascript": [
       "\n",
       "        if (window._pyforest_update_imports_cell) { window._pyforest_update_imports_cell('import matplotlib.pyplot as plt\\nimport pandas as pd\\nimport seaborn as sns\\nimport numpy as np'); }\n",
       "    "
      ],
      "text/plain": [
       "<IPython.core.display.Javascript object>"
      ]
     },
     "metadata": {},
     "output_type": "display_data"
    }
   ],
   "source": [
    "# Building the final dataset\n",
    "d_fe = pd.concat([d_fe,d_fe_qual,d_fe_exp,d_fe_ra,d_fe_pal], axis =1)\n",
    "# Droping duplicated information\n",
    "d_fe.drop(['Qualification', 'Experience', 'Rating', 'Place','Miscellaneous_Info'], axis = 1, inplace =True)"
   ]
  },
  {
   "cell_type": "code",
   "execution_count": 985,
   "metadata": {},
   "outputs": [
    {
     "data": {
      "text/html": [
       "<div>\n",
       "<style scoped>\n",
       "    .dataframe tbody tr th:only-of-type {\n",
       "        vertical-align: middle;\n",
       "    }\n",
       "\n",
       "    .dataframe tbody tr th {\n",
       "        vertical-align: top;\n",
       "    }\n",
       "\n",
       "    .dataframe thead th {\n",
       "        text-align: right;\n",
       "    }\n",
       "</style>\n",
       "<table border=\"1\" class=\"dataframe\">\n",
       "  <thead>\n",
       "    <tr style=\"text-align: right;\">\n",
       "      <th></th>\n",
       "      <th>Profile</th>\n",
       "      <th>Fees</th>\n",
       "      <th>Identify</th>\n",
       "      <th>feedack_num</th>\n",
       "      <th>Q1</th>\n",
       "      <th>Q2</th>\n",
       "      <th>Q3</th>\n",
       "      <th>Q4</th>\n",
       "      <th>Exp</th>\n",
       "      <th>R1</th>\n",
       "      <th>Area</th>\n",
       "      <th>City</th>\n",
       "    </tr>\n",
       "  </thead>\n",
       "  <tbody>\n",
       "    <tr>\n",
       "      <th>1056</th>\n",
       "      <td>Dentist</td>\n",
       "      <td>500</td>\n",
       "      <td>Train</td>\n",
       "      <td>0</td>\n",
       "      <td>BDS</td>\n",
       "      <td>MDS</td>\n",
       "      <td>ConservativeDentistry&amp;Endodontics</td>\n",
       "      <td>Missing</td>\n",
       "      <td>10</td>\n",
       "      <td>98</td>\n",
       "      <td>GhatkoparEast</td>\n",
       "      <td>Mumbai</td>\n",
       "    </tr>\n",
       "    <tr>\n",
       "      <th>4262</th>\n",
       "      <td>Dentist</td>\n",
       "      <td>300</td>\n",
       "      <td>Train</td>\n",
       "      <td>62</td>\n",
       "      <td>BDS</td>\n",
       "      <td>MDS</td>\n",
       "      <td>Oral&amp;MaxillofacialSurgery</td>\n",
       "      <td>Missing</td>\n",
       "      <td>38</td>\n",
       "      <td>97</td>\n",
       "      <td>AnnaNagar</td>\n",
       "      <td>Chennai</td>\n",
       "    </tr>\n",
       "    <tr>\n",
       "      <th>6053</th>\n",
       "      <td>Dentist</td>\n",
       "      <td>2366</td>\n",
       "      <td>Test</td>\n",
       "      <td>0</td>\n",
       "      <td>BDS</td>\n",
       "      <td>MDS</td>\n",
       "      <td>OrthodonticsandDentofacialOrthopaedics</td>\n",
       "      <td>Missing</td>\n",
       "      <td>5</td>\n",
       "      <td>NaN</td>\n",
       "      <td>Dadar</td>\n",
       "      <td>Mumbai</td>\n",
       "    </tr>\n",
       "    <tr>\n",
       "      <th>3208</th>\n",
       "      <td>Homeopath</td>\n",
       "      <td>300</td>\n",
       "      <td>Train</td>\n",
       "      <td>0</td>\n",
       "      <td>BHMS</td>\n",
       "      <td>MD</td>\n",
       "      <td>Homeopathy</td>\n",
       "      <td>Missing</td>\n",
       "      <td>6</td>\n",
       "      <td>NaN</td>\n",
       "      <td>TNagar</td>\n",
       "      <td>Chennai</td>\n",
       "    </tr>\n",
       "    <tr>\n",
       "      <th>112</th>\n",
       "      <td>Dermatologists</td>\n",
       "      <td>500</td>\n",
       "      <td>Train</td>\n",
       "      <td>13</td>\n",
       "      <td>MBBS</td>\n",
       "      <td>DiplomainDermatology</td>\n",
       "      <td>Missing</td>\n",
       "      <td>Missing</td>\n",
       "      <td>11</td>\n",
       "      <td>90</td>\n",
       "      <td>Indiranagar</td>\n",
       "      <td>Bangalore</td>\n",
       "    </tr>\n",
       "    <tr>\n",
       "      <th>7561</th>\n",
       "      <td>ENTSpecialist</td>\n",
       "      <td>2111</td>\n",
       "      <td>Test</td>\n",
       "      <td>80</td>\n",
       "      <td>MBBS</td>\n",
       "      <td>DNB</td>\n",
       "      <td>ENT</td>\n",
       "      <td>Missing</td>\n",
       "      <td>11</td>\n",
       "      <td>99</td>\n",
       "      <td>OldAirportRoad</td>\n",
       "      <td>Bangalore</td>\n",
       "    </tr>\n",
       "    <tr>\n",
       "      <th>7121</th>\n",
       "      <td>Dermatologists</td>\n",
       "      <td>1884</td>\n",
       "      <td>Test</td>\n",
       "      <td>2</td>\n",
       "      <td>MBBS</td>\n",
       "      <td>MD</td>\n",
       "      <td>Dermatology</td>\n",
       "      <td>Venereology&amp;Leprosy</td>\n",
       "      <td>10</td>\n",
       "      <td>100</td>\n",
       "      <td>Rohini</td>\n",
       "      <td>Delhi</td>\n",
       "    </tr>\n",
       "    <tr>\n",
       "      <th>7416</th>\n",
       "      <td>GeneralMedicine</td>\n",
       "      <td>2603</td>\n",
       "      <td>Test</td>\n",
       "      <td>0</td>\n",
       "      <td>MBBS</td>\n",
       "      <td>MD</td>\n",
       "      <td>CommunityMedicine</td>\n",
       "      <td>Missing</td>\n",
       "      <td>25</td>\n",
       "      <td>NaN</td>\n",
       "      <td>Pitampura</td>\n",
       "      <td>Delhi</td>\n",
       "    </tr>\n",
       "    <tr>\n",
       "      <th>7342</th>\n",
       "      <td>Ayurveda</td>\n",
       "      <td>2833</td>\n",
       "      <td>Test</td>\n",
       "      <td>0</td>\n",
       "      <td>BAMS</td>\n",
       "      <td>Missing</td>\n",
       "      <td>Missing</td>\n",
       "      <td>Missing</td>\n",
       "      <td>13</td>\n",
       "      <td>NaN</td>\n",
       "      <td>Sakinaka</td>\n",
       "      <td>Mumbai</td>\n",
       "    </tr>\n",
       "    <tr>\n",
       "      <th>7283</th>\n",
       "      <td>Dermatologists</td>\n",
       "      <td>1311</td>\n",
       "      <td>Test</td>\n",
       "      <td>149</td>\n",
       "      <td>MD</td>\n",
       "      <td>Skin&amp;VD</td>\n",
       "      <td>MBBS</td>\n",
       "      <td>Missing</td>\n",
       "      <td>26</td>\n",
       "      <td>95</td>\n",
       "      <td>Koramangala</td>\n",
       "      <td>Bangalore</td>\n",
       "    </tr>\n",
       "  </tbody>\n",
       "</table>\n",
       "</div>"
      ],
      "text/plain": [
       "              Profile  Fees Identify  feedack_num    Q1                    Q2  \\\n",
       "1056          Dentist   500    Train            0   BDS                   MDS   \n",
       "4262          Dentist   300    Train           62   BDS                   MDS   \n",
       "6053          Dentist  2366     Test            0   BDS                   MDS   \n",
       "3208        Homeopath   300    Train            0  BHMS                    MD   \n",
       "112    Dermatologists   500    Train           13  MBBS  DiplomainDermatology   \n",
       "7561    ENTSpecialist  2111     Test           80  MBBS                   DNB   \n",
       "7121   Dermatologists  1884     Test            2  MBBS                    MD   \n",
       "7416  GeneralMedicine  2603     Test            0  MBBS                    MD   \n",
       "7342         Ayurveda  2833     Test            0  BAMS               Missing   \n",
       "7283   Dermatologists  1311     Test          149    MD               Skin&VD   \n",
       "\n",
       "                                          Q3                   Q4 Exp   R1  \\\n",
       "1056       ConservativeDentistry&Endodontics              Missing  10   98   \n",
       "4262               Oral&MaxillofacialSurgery              Missing  38   97   \n",
       "6053  OrthodonticsandDentofacialOrthopaedics              Missing   5  NaN   \n",
       "3208                              Homeopathy              Missing   6  NaN   \n",
       "112                                  Missing              Missing  11   90   \n",
       "7561                                     ENT              Missing  11   99   \n",
       "7121                             Dermatology  Venereology&Leprosy  10  100   \n",
       "7416                       CommunityMedicine              Missing  25  NaN   \n",
       "7342                                 Missing              Missing  13  NaN   \n",
       "7283                                    MBBS              Missing  26   95   \n",
       "\n",
       "                Area       City  \n",
       "1056   GhatkoparEast     Mumbai  \n",
       "4262       AnnaNagar    Chennai  \n",
       "6053           Dadar     Mumbai  \n",
       "3208          TNagar    Chennai  \n",
       "112      Indiranagar  Bangalore  \n",
       "7561  OldAirportRoad  Bangalore  \n",
       "7121          Rohini      Delhi  \n",
       "7416       Pitampura      Delhi  \n",
       "7342        Sakinaka     Mumbai  \n",
       "7283     Koramangala  Bangalore  "
      ]
     },
     "execution_count": 985,
     "metadata": {},
     "output_type": "execute_result"
    }
   ],
   "source": [
    "d_fe.sample(10) # Checking the final dataset"
   ]
  },
  {
   "cell_type": "code",
   "execution_count": 986,
   "metadata": {},
   "outputs": [
    {
     "data": {
      "application/javascript": [
       "\n",
       "        if (window._pyforest_update_imports_cell) { window._pyforest_update_imports_cell('import matplotlib.pyplot as plt\\nimport pandas as pd\\nimport seaborn as sns\\nimport numpy as np'); }\n",
       "    "
      ],
      "text/plain": [
       "<IPython.core.display.Javascript object>"
      ]
     },
     "metadata": {},
     "output_type": "display_data"
    }
   ],
   "source": [
    "# Replacing NaN Values\n",
    "d_fe.replace(np.NaN, 'Missing', inplace = True)\n",
    "indexNames = d_fe[d_fe['City'] == 'Missing'].index\n",
    "d_fe.drop(indexNames , inplace=True)\n",
    "# Filling Missing values in Rating column by Mean ratings in City\n",
    "d_fe['R1'] = d_fe.groupby('City').transform(lambda x: x.fillna(x.mean()))"
   ]
  },
  {
   "cell_type": "code",
   "execution_count": 987,
   "metadata": {},
   "outputs": [],
   "source": [
    "# Encoding the data\n",
    "from sklearn.preprocessing import LabelEncoder\n",
    "le = LabelEncoder()\n",
    "val = ['Profile', 'feedack_num', 'Q1', 'Q2', 'Q3', 'Q4','Exp', 'R1', 'Area', 'City']\n",
    "for i in val:\n",
    "    d_fe[i] = le.fit_transform(d_fe[i].astype(str))"
   ]
  },
  {
   "cell_type": "code",
   "execution_count": 988,
   "metadata": {},
   "outputs": [
    {
     "data": {
      "application/javascript": [
       "\n",
       "        if (window._pyforest_update_imports_cell) { window._pyforest_update_imports_cell('import matplotlib.pyplot as plt\\nimport pandas as pd\\nimport seaborn as sns\\nimport numpy as np'); }\n",
       "    "
      ],
      "text/plain": [
       "<IPython.core.display.Javascript object>"
      ]
     },
     "metadata": {},
     "output_type": "display_data"
    },
    {
     "data": {
      "application/javascript": [
       "\n",
       "        if (window._pyforest_update_imports_cell) { window._pyforest_update_imports_cell('import matplotlib.pyplot as plt\\nimport pandas as pd\\nimport seaborn as sns\\nimport numpy as np'); }\n",
       "    "
      ],
      "text/plain": [
       "<IPython.core.display.Javascript object>"
      ]
     },
     "metadata": {},
     "output_type": "display_data"
    },
    {
     "data": {
      "application/javascript": [
       "\n",
       "        if (window._pyforest_update_imports_cell) { window._pyforest_update_imports_cell('import matplotlib.pyplot as plt\\nimport pandas as pd\\nimport seaborn as sns\\nimport numpy as np'); }\n",
       "    "
      ],
      "text/plain": [
       "<IPython.core.display.Javascript object>"
      ]
     },
     "metadata": {},
     "output_type": "display_data"
    },
    {
     "data": {
      "image/png": "[encoded data removed]",
      "text/plain": [
       "<Figure size 1440x360 with 1 Axes>"
      ]
     },
     "metadata": {
      "needs_background": "light"
     },
     "output_type": "display_data"
    }
   ],
   "source": [
    "plt.figure(figsize = (20,5))\n",
    "d_fe.drop(['Fees'], axis = 1).corrwith(d_fe['Fees']).plot(kind = 'bar')\n",
    "plt.title('Correlation Map')\n",
    "plt.show()"
   ]
  },
  {
   "cell_type": "raw",
   "metadata": {},
   "source": [
    "# We can see that Fees has strong positive correlation with Qualification1(Q1),Feedback_num, Profile and rating(R1) columns\n",
    "# Negative coorelation with Qualification Q2,Q3,Q4, Exp, Area & City columns"
   ]
  },
  {
   "cell_type": "markdown",
   "metadata": {},
   "source": [
    "# Building the model"
   ]
  },
  {
   "cell_type": "code",
   "execution_count": 990,
   "metadata": {},
   "outputs": [],
   "source": [
    "#Importing required libraries\n",
    "from sklearn.linear_model import LinearRegression, Lasso, Ridge, ElasticNet\n",
    "from sklearn.ensemble import RandomForestRegressor, AdaBoostRegressor, GradientBoostingRegressor\n",
    "from sklearn.tree import DecisionTreeRegressor\n",
    "from sklearn.model_selection import train_test_split, LeaveOneOut, cross_val_score\n",
    "from xgboost.sklearn import XGBRegressor\n",
    "from sklearn.metrics import r2_score, mean_absolute_error, mean_squared_error\n",
    "from sklearn.pipeline import Pipeline"
   ]
  },
  {
   "cell_type": "code",
   "execution_count": 991,
   "metadata": {},
   "outputs": [],
   "source": [
    "# Segrigating data into x & y\n",
    "train = d_fe.loc[d_fe['Identify']== 'Train']\n",
    "test = d_fe.loc[d_fe['Identify']== 'Test']\n",
    "x = (train.drop(['Fees','Identify'], axis = 1)).astype(int)\n",
    "y = train['Fees']\n",
    "testy = (test.drop(['Fees','Identify'], axis = 1))\n",
    "y_pred = test['Fees']"
   ]
  },
  {
   "cell_type": "code",
   "execution_count": 992,
   "metadata": {},
   "outputs": [
    {
     "name": "stdout",
     "output_type": "stream",
     "text": [
      "The best random state is 56 with accuracy is 63.899130614315204%\n"
     ]
    }
   ],
   "source": [
    "# identifying best random state\n",
    "best_random_state = 0\n",
    "accu = 0\n",
    "for i in range(30,100):\n",
    "    x_train,x_test,y_train,y_test = train_test_split(x,y,test_size =0.2, random_state = i)\n",
    "    lr = LinearRegression()\n",
    "    lr.fit(x_train,y_train)\n",
    "    predlr = lr.predict(x_test)\n",
    "    r2s = r2_score(y_test,predlr)\n",
    "    if r2s > accu:\n",
    "        accu = r2s\n",
    "        best_random_state = i\n",
    "        \n",
    "        \n",
    "print(f'The best random state is {best_random_state} with accuracy is {accu *100}%')"
   ]
  },
  {
   "cell_type": "code",
   "execution_count": 993,
   "metadata": {},
   "outputs": [
    {
     "name": "stdout",
     "output_type": "stream",
     "text": [
      "For algorithm LinearRegression() R2 Score is 63.899130614315204\n",
      "For algorithm LinearRegression() mean Sqr Error is 1272045.2031672222\n",
      "For algorithm LinearRegression() mean abs. error is 8187.125334326713\n",
      "For algorithm LinearRegression() cross validation score is 58.98352452336874\n",
      "Difference between r2 score & cv score = 4.915606090946461\n",
      "\n",
      "+++++++++++++++++++++++++++++++++++++++++++++++++++++++++++++++++++++++++++++++++++++++++++++\n",
      "For algorithm Lasso(alpha=0.001) R2 Score is 63.899112009194745\n",
      "For algorithm Lasso(alpha=0.001) mean Sqr Error is 1272045.8587346536\n",
      "For algorithm Lasso(alpha=0.001) mean abs. error is 8187.126298774052\n",
      "For algorithm Lasso(alpha=0.001) cross validation score is 58.98352500506272\n",
      "Difference between r2 score & cv score = 4.915587004132028\n",
      "\n",
      "+++++++++++++++++++++++++++++++++++++++++++++++++++++++++++++++++++++++++++++++++++++++++++++\n",
      "For algorithm Ridge(alpha=0.1) R2 Score is 63.899129223705174\n",
      "For algorithm Ridge(alpha=0.1) mean Sqr Error is 1272045.252166563\n",
      "For algorithm Ridge(alpha=0.1) mean abs. error is 8187.12540940148\n",
      "For algorithm Ridge(alpha=0.1) cross validation score is 58.98352471377743\n",
      "Difference between r2 score & cv score = 4.915604509927746\n",
      "\n",
      "+++++++++++++++++++++++++++++++++++++++++++++++++++++++++++++++++++++++++++++++++++++++++++++\n",
      "For algorithm ElasticNet(alpha=0.001) R2 Score is 63.89908829009342\n",
      "For algorithm ElasticNet(alpha=0.001) mean Sqr Error is 1272046.6944976028\n",
      "For algorithm ElasticNet(alpha=0.001) mean abs. error is 8187.127599768885\n",
      "For algorithm ElasticNet(alpha=0.001) cross validation score is 58.983529845827064\n",
      "Difference between r2 score & cv score = 4.9155584442663525\n",
      "\n",
      "+++++++++++++++++++++++++++++++++++++++++++++++++++++++++++++++++++++++++++++++++++++++++++++\n",
      "For algorithm RandomForestRegressor() R2 Score is 99.9917403522797\n",
      "For algorithm RandomForestRegressor() mean Sqr Error is 291.0357961246845\n",
      "For algorithm RandomForestRegressor() mean abs. error is 11.63689974726202\n",
      "For algorithm RandomForestRegressor() cross validation score is 99.86096600546034\n",
      "Difference between r2 score & cv score = 0.13077434681936495\n",
      "\n",
      "+++++++++++++++++++++++++++++++++++++++++++++++++++++++++++++++++++++++++++++++++++++++++++++\n",
      "For algorithm AdaBoostRegressor() R2 Score is 85.4080735211016\n",
      "For algorithm AdaBoostRegressor() mean Sqr Error is 514159.088085889\n",
      "For algorithm AdaBoostRegressor() mean abs. error is 6115.089069445547\n",
      "For algorithm AdaBoostRegressor() cross validation score is 86.33735989134537\n",
      "Difference between r2 score & cv score = -0.9292863702437728\n",
      "\n",
      "+++++++++++++++++++++++++++++++++++++++++++++++++++++++++++++++++++++++++++++++++++++++++++++\n",
      "For algorithm DecisionTreeRegressor() R2 Score is 99.99635385243768\n",
      "For algorithm DecisionTreeRegressor() mean Sqr Error is 128.47514743049706\n",
      "For algorithm DecisionTreeRegressor() mean abs. error is 4.633529907329402\n",
      "For algorithm DecisionTreeRegressor() cross validation score is 99.83834056659398\n",
      "Difference between r2 score & cv score = 0.158013285843694\n",
      "\n",
      "+++++++++++++++++++++++++++++++++++++++++++++++++++++++++++++++++++++++++++++++++++++++++++++\n",
      "For algorithm XGBRegressor(base_score=0.5, booster='gbtree', colsample_bylevel=1,\n",
      "             colsample_bynode=1, colsample_bytree=1, gamma=0, gpu_id=-1,\n",
      "             importance_type='gain', interaction_constraints='',\n",
      "             learning_rate=0.300000012, max_delta_step=0, max_depth=6,\n",
      "             min_child_weight=1, missing=nan, monotone_constraints='()',\n",
      "             n_estimators=100, n_jobs=4, num_parallel_tree=1, random_state=0,\n",
      "             reg_alpha=0, reg_lambda=1, scale_pos_weight=1, subsample=1,\n",
      "             tree_method='exact', validate_parameters=1, verbosity=None) R2 Score is 99.99680342520126\n",
      "For algorithm XGBRegressor(base_score=0.5, booster='gbtree', colsample_bylevel=1,\n",
      "             colsample_bynode=1, colsample_bytree=1, gamma=0, gpu_id=-1,\n",
      "             importance_type='gain', interaction_constraints='',\n",
      "             learning_rate=0.300000012, max_delta_step=0, max_depth=6,\n",
      "             min_child_weight=1, missing=nan, monotone_constraints='()',\n",
      "             n_estimators=100, n_jobs=4, num_parallel_tree=1, random_state=0,\n",
      "             reg_alpha=0, reg_lambda=1, scale_pos_weight=1, subsample=1,\n",
      "             tree_method='exact', validate_parameters=1, verbosity=None) mean Sqr Error is 112.63406417890447\n",
      "For algorithm XGBRegressor(base_score=0.5, booster='gbtree', colsample_bylevel=1,\n",
      "             colsample_bynode=1, colsample_bytree=1, gamma=0, gpu_id=-1,\n",
      "             importance_type='gain', interaction_constraints='',\n",
      "             learning_rate=0.300000012, max_delta_step=0, max_depth=6,\n",
      "             min_child_weight=1, missing=nan, monotone_constraints='()',\n",
      "             n_estimators=100, n_jobs=4, num_parallel_tree=1, random_state=0,\n",
      "             reg_alpha=0, reg_lambda=1, scale_pos_weight=1, subsample=1,\n",
      "             tree_method='exact', validate_parameters=1, verbosity=None) mean abs. error is 7.764156344766464\n",
      "For algorithm XGBRegressor(base_score=0.5, booster='gbtree', colsample_bylevel=1,\n",
      "             colsample_bynode=1, colsample_bytree=1, gamma=0, gpu_id=-1,\n",
      "             importance_type='gain', interaction_constraints='',\n",
      "             learning_rate=0.300000012, max_delta_step=0, max_depth=6,\n",
      "             min_child_weight=1, missing=nan, monotone_constraints='()',\n",
      "             n_estimators=100, n_jobs=4, num_parallel_tree=1, random_state=0,\n",
      "             reg_alpha=0, reg_lambda=1, scale_pos_weight=1, subsample=1,\n",
      "             tree_method='exact', validate_parameters=1, verbosity=None) cross validation score is 99.7986633543394\n",
      "Difference between r2 score & cv score = 0.1981400708618679\n",
      "\n",
      "+++++++++++++++++++++++++++++++++++++++++++++++++++++++++++++++++++++++++++++++++++++++++++++\n",
      "For algorithm GradientBoostingRegressor() R2 Score is 99.87420745183613\n",
      "For algorithm GradientBoostingRegressor() mean Sqr Error is 4432.4086984311425\n",
      "For algorithm GradientBoostingRegressor() mean abs. error is 179.45495309075994\n",
      "For algorithm GradientBoostingRegressor() cross validation score is 99.64828395541522\n",
      "Difference between r2 score & cv score = 0.22592349642090426\n",
      "\n",
      "+++++++++++++++++++++++++++++++++++++++++++++++++++++++++++++++++++++++++++++++++++++++++++++\n"
     ]
    }
   ],
   "source": [
    "#Identifying best Algorithm\n",
    "import warnings\n",
    "warnings.filterwarnings('ignore')\n",
    "models=[LinearRegression(),Lasso(alpha =0.001),Ridge(alpha =0.1), \n",
    "      ElasticNet(alpha =0.001), RandomForestRegressor(),\n",
    "      AdaBoostRegressor(), DecisionTreeRegressor(), XGBRegressor(), GradientBoostingRegressor()]\n",
    "for m in models:\n",
    "    x_train,x_test,y_train,y_test = train_test_split(x,y,test_size = 0.2, random_state = 56)\n",
    "    m.fit(x_train,y_train)\n",
    "    pred = m.predict(x_test)\n",
    "    cv_score = cross_val_score(m,x,y,cv= 10).mean()\n",
    "    print(f'For algorithm {m} R2 Score is {r2_score(y_test,pred)*100}')\n",
    "    print(f'For algorithm {m} mean Sqr Error is {mean_squared_error(y_test,pred)*100}')\n",
    "    print(f'For algorithm {m} mean abs. error is {mean_absolute_error(y_test,pred)*100}')\n",
    "    print(f'For algorithm {m} cross validation score is {cv_score*100}')\n",
    "    print(f'Difference between r2 score & cv score = {(r2_score(y_test,pred)*100)-(cv_score*100)}\\n')\n",
    "    print('+++++++++++++++++++++++++++++++++++++++++++++++++++++++++++++++++++++++++++++++++++++++++++++')"
   ]
  },
  {
   "cell_type": "raw",
   "metadata": {},
   "source": [
    "XGBRegressor shows best results with 99.8% CV score with least MSE & MAE, hence a model can be built using XGBR algorithm"
   ]
  },
  {
   "cell_type": "code",
   "execution_count": 994,
   "metadata": {},
   "outputs": [
    {
     "data": {
      "text/plain": [
       "{'booster': 'dart'}"
      ]
     },
     "execution_count": 994,
     "metadata": {},
     "output_type": "execute_result"
    }
   ],
   "source": [
    "# Hyperparameter Training\n",
    "from sklearn.model_selection import GridSearchCV\n",
    "parameters = {'booster':['gbtree', 'gblinear','dart']}\n",
    "clf = GridSearchCV(XGBRegressor(),parameters)\n",
    "clf.fit(x_train,y_train)\n",
    "clf.best_params_"
   ]
  },
  {
   "cell_type": "code",
   "execution_count": 995,
   "metadata": {},
   "outputs": [
    {
     "name": "stdout",
     "output_type": "stream",
     "text": [
      "R2 Score is 99.99579668557612\n",
      "Mean Sqr Error is 148.0\n",
      "Mean abs. error is 10.0\n",
      "Cross validation score is 99.79866335407046\n",
      "Difference between r2 score & cv score = 0.19713333150566825\n",
      "\n",
      "+++++++++++++++++++++++++++++++++++++++++++++++++++++++++++++++++++++++++++++++++++++++++++++\n"
     ]
    }
   ],
   "source": [
    "#Building the model\n",
    "x_train,x_test,y_train,y_test = train_test_split(x,y,test_size = 0.22, random_state = 56)\n",
    "xgbr = XGBRegressor(booster= 'dart')\n",
    "xgbr.fit(x_train,y_train)\n",
    "pred = xgbr.predict(x_test)\n",
    "cv_score = cross_val_score(xgbr,x,y,cv= 10).mean()\n",
    "print(f'R2 Score is {(r2_score(y_test,pred)*100)}')\n",
    "print(f'Mean Sqr Error is {round(mean_squared_error(y_test,pred)*100)}')\n",
    "print(f'Mean abs. error is {round(mean_absolute_error(y_test,pred)*100)}')\n",
    "print(f'Cross validation score is {(cv_score*100)}')\n",
    "print(f'Difference between r2 score & cv score = {((r2_score(y_test,pred)*100)-(cv_score*100))}\\n')\n",
    "print('+++++++++++++++++++++++++++++++++++++++++++++++++++++++++++++++++++++++++++++++++++++++++++++')"
   ]
  },
  {
   "cell_type": "markdown",
   "metadata": {},
   "source": [
    "# Saving the best Model"
   ]
  },
  {
   "cell_type": "code",
   "execution_count": 996,
   "metadata": {},
   "outputs": [
    {
     "data": {
      "text/plain": [
       "['Doctors_Fees.obj']"
      ]
     },
     "execution_count": 996,
     "metadata": {},
     "output_type": "execute_result"
    }
   ],
   "source": [
    "import joblib\n",
    "joblib.dump(xgbr,'Doctors_Fees.obj')"
   ]
  },
  {
   "cell_type": "code",
   "execution_count": 997,
   "metadata": {},
   "outputs": [],
   "source": [
    "doc_pred = joblib.load('Doctors_Fees.obj')"
   ]
  },
  {
   "cell_type": "markdown",
   "metadata": {},
   "source": [
    "# Testing the model"
   ]
  },
  {
   "cell_type": "code",
   "execution_count": 998,
   "metadata": {},
   "outputs": [],
   "source": [
    "y_test_pred = doc_pred.predict(testy)"
   ]
  },
  {
   "cell_type": "code",
   "execution_count": 999,
   "metadata": {},
   "outputs": [
    {
     "data": {
      "application/javascript": [
       "\n",
       "        if (window._pyforest_update_imports_cell) { window._pyforest_update_imports_cell('import matplotlib.pyplot as plt\\nimport pandas as pd\\nimport seaborn as sns\\nimport numpy as np'); }\n",
       "    "
      ],
      "text/plain": [
       "<IPython.core.display.Javascript object>"
      ]
     },
     "metadata": {},
     "output_type": "display_data"
    },
    {
     "data": {
      "text/plain": [
       "<matplotlib.collections.PathCollection at 0x20e44c279d0>"
      ]
     },
     "execution_count": 999,
     "metadata": {},
     "output_type": "execute_result"
    },
    {
     "data": {
      "image/png": "[encoded data removed]",
      "text/plain": [
       "<Figure size 432x288 with 1 Axes>"
      ]
     },
     "metadata": {
      "needs_background": "light"
     },
     "output_type": "display_data"
    }
   ],
   "source": [
    "plt.scatter(y_pred,y_test_pred)"
   ]
  },
  {
   "cell_type": "code",
   "execution_count": 1000,
   "metadata": {},
   "outputs": [
    {
     "name": "stdout",
     "output_type": "stream",
     "text": [
      "R2 Score is -2543.627922078072\n",
      "Mean Sqr Error is 325580675.56482184\n",
      "Mean abs. error is 177602.94005438752\n"
     ]
    }
   ],
   "source": [
    "print(f'R2 Score is {r2_score(y_pred,y_test_pred)*100}')\n",
    "print(f'Mean Sqr Error is {mean_squared_error(y_pred,y_test_pred)*100}')\n",
    "print(f'Mean abs. error is {mean_absolute_error(y_pred,y_test_pred)*100}')"
   ]
  },
  {
   "cell_type": "code",
   "execution_count": 1001,
   "metadata": {},
   "outputs": [],
   "source": [
    "x_test_pred = doc_pred.predict(x)"
   ]
  },
  {
   "cell_type": "code",
   "execution_count": 1002,
   "metadata": {},
   "outputs": [
    {
     "data": {
      "application/javascript": [
       "\n",
       "        if (window._pyforest_update_imports_cell) { window._pyforest_update_imports_cell('import matplotlib.pyplot as plt\\nimport pandas as pd\\nimport seaborn as sns\\nimport numpy as np'); }\n",
       "    "
      ],
      "text/plain": [
       "<IPython.core.display.Javascript object>"
      ]
     },
     "metadata": {},
     "output_type": "display_data"
    },
    {
     "data": {
      "text/plain": [
       "<matplotlib.collections.PathCollection at 0x20e444bfb50>"
      ]
     },
     "execution_count": 1002,
     "metadata": {},
     "output_type": "execute_result"
    },
    {
     "data": {
      "image/png": "[encoded data removed]",
      "text/plain": [
       "<Figure size 432x288 with 1 Axes>"
      ]
     },
     "metadata": {
      "needs_background": "light"
     },
     "output_type": "display_data"
    }
   ],
   "source": [
    "plt.scatter(y,x_test_pred)"
   ]
  },
  {
   "cell_type": "code",
   "execution_count": 1003,
   "metadata": {},
   "outputs": [
    {
     "name": "stdout",
     "output_type": "stream",
     "text": [
      "R2 Score is 99.99910252881308\n",
      "Mean Sqr Error is 32.68925079646439\n",
      "Mean abs. error is 3.630132811754415\n"
     ]
    }
   ],
   "source": [
    "print(f'R2 Score is {r2_score(y,x_test_pred)*100}')\n",
    "print(f'Mean Sqr Error is {mean_squared_error(y,x_test_pred)*100}')\n",
    "print(f'Mean abs. error is {mean_absolute_error(y,x_test_pred)*100}')"
   ]
  },
  {
   "cell_type": "markdown",
   "metadata": {},
   "source": [
    "# Conclusion : The information contained in the dataset is highly complex in nature, hence it took significant effort to clean the data. Though the effort paid up & could acheive 99% efficiency with XGBRegressor and a model has been developed for the same. Though the model still has significant scope for further cleaning data and improving score"
   ]
  },
  {
   "cell_type": "code",
   "execution_count": null,
   "metadata": {},
   "outputs": [],
   "source": []
  }
 ],
 "metadata": {
  "kernelspec": {
   "display_name": "Python 3",
   "language": "python",
   "name": "python3"
  },
  "language_info": {
   "codemirror_mode": {
    "name": "ipython",
    "version": 3
   },
   "file_extension": ".py",
   "mimetype": "text/x-python",
   "name": "python",
   "nbconvert_exporter": "python",
   "pygments_lexer": "ipython3",
   "version": "3.8.3"
  }
 },
 "nbformat": 4,
 "nbformat_minor": 4
}
